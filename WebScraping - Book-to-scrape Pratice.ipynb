{
 "cells": [
  {
   "cell_type": "markdown",
   "metadata": {},
   "source": [
    "# 0.0 Import Libs"
   ]
  },
  {
   "cell_type": "code",
   "execution_count": 2,
   "metadata": {
    "ExecuteTime": {
     "end_time": "2021-07-16T17:35:35.027706Z",
     "start_time": "2021-07-16T17:35:35.009634Z"
    }
   },
   "outputs": [],
   "source": [
    "import pandas as pd\n",
    "import numpy as np\n",
    "import requests\n",
    "from bs4 import BeautifulSoup"
   ]
  },
  {
   "cell_type": "markdown",
   "metadata": {},
   "source": [
    "## Get Catalog list"
   ]
  },
  {
   "cell_type": "code",
   "execution_count": 3,
   "metadata": {
    "ExecuteTime": {
     "end_time": "2021-07-16T17:35:37.191074Z",
     "start_time": "2021-07-16T17:35:36.112762Z"
    }
   },
   "outputs": [],
   "source": [
    "url = 'https://books.toscrape.com/'\n",
    "headers = {'User-Agent': 'Mozilla/5.0 (Macintosh; Intel Mac OS X 10_11_5),AppleWebKit/537.36 (KHTML, like Gecko) Chrome/50.0.2661.102 Safari/537.36'}\n",
    "page = requests.get(url, headers=headers)\n",
    "\n",
    "\n",
    "# BeautifulSoup Objetct\n",
    "soup = BeautifulSoup(page.text, 'html.parser')\n",
    "\n",
    "#================== Get Catalog ====================#\n",
    "catalog_list = soup.find_all('ul',class_='nav nav-list')\n",
    "catalog = [list(filter(None, p.get_text().split('\\n'))) for p in catalog_list]\n",
    "\n",
    "catalog = [x.strip() for x in catalog[0]]\n",
    "\n",
    "aux = [i for i in catalog if i.strip()]\n",
    "catalog_books = pd. DataFrame(aux[1:])\n",
    "catalog_books.columns = ['catalog']"
   ]
  },
  {
   "cell_type": "markdown",
   "metadata": {},
   "source": [
    "## All URL Books"
   ]
  },
  {
   "cell_type": "code",
   "execution_count": 4,
   "metadata": {
    "ExecuteTime": {
     "end_time": "2021-07-16T17:36:33.200054Z",
     "start_time": "2021-07-16T17:35:38.105676Z"
    }
   },
   "outputs": [],
   "source": [
    "#================== Get all url books ====================#\n",
    "# page size\n",
    "n_page = soup.find('form', class_='form-horizontal')\n",
    "n_page = n_page.get_text().split(' ')\n",
    "n_page = n_page[0].split('\\n')[3]\n",
    "n_page = int(n_page) / 20\n",
    "page_list = list(np.arange(1, int(n_page)+1,1))\n",
    "\n",
    "list_url = []\n",
    "\n",
    "for i in range(len(page_list)):\n",
    "    url = 'https://books.toscrape.com/catalogue/page-'+ str(page_list[i]) +'.html' \n",
    "    page = requests.get(url, headers=headers)\n",
    "    soup = BeautifulSoup(page.text, 'html.parser')\n",
    "    product_url = soup.find_all('div',class_='image_container')\n",
    "    l = [p.find('a').get('href') for p in product_url]\n",
    "    list_url = list_url + l "
   ]
  },
  {
   "cell_type": "markdown",
   "metadata": {},
   "source": [
    "## Get Books Details"
   ]
  },
  {
   "cell_type": "code",
   "execution_count": 5,
   "metadata": {
    "ExecuteTime": {
     "end_time": "2021-07-16T17:51:01.603266Z",
     "start_time": "2021-07-16T17:36:52.033638Z"
    }
   },
   "outputs": [],
   "source": [
    "#================== Get books details ====================#\n",
    "#Nome do livro\n",
    "headers = {'User-Agent': 'Mozilla/5.0 (Macintosh; Intel Mac OS X 10_11_5),AppleWebKit/537.36 (KHTML, like Gecko) Chrome/50.0.2661.102 Safari/537.36'}\n",
    "rate_list = ['One','Two','Three','Four','Five']\n",
    "cols = ['book_name','book_category','book_price','book_rate','book_stock','book_id']\n",
    "books = pd.DataFrame(columns=cols)\n",
    "\n",
    "for i in range(len(list_url)):\n",
    "    url = 'https://books.toscrape.com/catalogue/' + list_url[i]\n",
    "    page = requests.get(url, headers=headers)\n",
    "    soup = BeautifulSoup(page.text, 'html.parser')\n",
    "\n",
    "    # product name\n",
    "    product_details = soup.find('div', class_='col-sm-6 product_main')\n",
    "    name = str(product_details.h1.string)\n",
    "\n",
    "    # product price\n",
    "    product_details = soup.find('p', class_='price_color')\n",
    "    price = product_details.get_text()[1:]\n",
    "\n",
    "    #product rate\n",
    "    for p in range(len(rate_list)):\n",
    "        product_details = soup.find('div', class_='col-sm-6 product_main')\n",
    "\n",
    "        if product_details.find('p', class_='star-rating '+ str(rate_list[p])):\n",
    "            aux = product_details.find('p', class_='star-rating '+ str(rate_list[p]))\n",
    "            rate = aux['class'][1]\n",
    "        else:\n",
    "            next\n",
    "\n",
    "    # product stock\n",
    "    product_details = soup.find('p', class_='instock availability')\n",
    "    stock = product_details.get_text().strip()\n",
    "    \n",
    "    # product category\n",
    "    product_details = soup.find('ul', class_='breadcrumb')\n",
    "    category = list(filter(None, product_details.get_text().split('\\n')))[2]\n",
    "    \n",
    "    # generate dataframe\n",
    "    aux = pd.DataFrame([name,category,price,rate,stock]).T\n",
    "    aux.columns = ['book_name','book_category','book_price','book_rate','book_stock']\n",
    "    aux['book_id'] = i\n",
    "    \n",
    "    books = pd.concat([books, aux], axis=0)\n",
    "\n",
    "# reset index\n",
    "books = books.reset_index().drop('index',axis=1)"
   ]
  },
  {
   "cell_type": "code",
   "execution_count": 9,
   "metadata": {
    "ExecuteTime": {
     "end_time": "2021-07-16T18:22:51.996674Z",
     "start_time": "2021-07-16T18:22:51.962765Z"
    }
   },
   "outputs": [],
   "source": [
    "# Export to csv\n",
    "books.to_csv('books-list-complete.csv', index=False )"
   ]
  },
  {
   "cell_type": "code",
   "execution_count": null,
   "metadata": {},
   "outputs": [],
   "source": []
  }
 ],
 "metadata": {
  "kernelspec": {
   "display_name": "Python 3",
   "language": "python",
   "name": "python3"
  },
  "language_info": {
   "codemirror_mode": {
    "name": "ipython",
    "version": 3
   },
   "file_extension": ".py",
   "mimetype": "text/x-python",
   "name": "python",
   "nbconvert_exporter": "python",
   "pygments_lexer": "ipython3",
   "version": "3.8.5"
  }
 },
 "nbformat": 4,
 "nbformat_minor": 4
}
