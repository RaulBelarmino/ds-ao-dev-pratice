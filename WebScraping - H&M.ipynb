{
 "cells": [
  {
   "cell_type": "markdown",
   "metadata": {
    "heading_collapsed": true
   },
   "source": [
    "# 0.0 Import Libs"
   ]
  },
  {
   "cell_type": "code",
   "execution_count": 6,
   "metadata": {
    "ExecuteTime": {
     "end_time": "2021-08-13T15:59:46.698350Z",
     "start_time": "2021-08-13T15:59:46.635328Z"
    },
    "hidden": true
   },
   "outputs": [],
   "source": [
    "import pandas as pd\n",
    "import numpy as np\n",
    "import requests\n",
    "import re\n",
    "import sqlite3\n",
    "import math\n",
    "\n",
    "from sqlalchemy import create_engine\n",
    "from bs4 import BeautifulSoup\n",
    "from datetime import datetime"
   ]
  },
  {
   "cell_type": "markdown",
   "metadata": {
    "heading_collapsed": true
   },
   "source": [
    "# 1.0 Collect all product id in main page"
   ]
  },
  {
   "cell_type": "code",
   "execution_count": 76,
   "metadata": {
    "ExecuteTime": {
     "end_time": "2021-08-12T20:05:47.658654Z",
     "start_time": "2021-08-12T20:05:42.304155Z"
    },
    "hidden": true
   },
   "outputs": [],
   "source": [
    "#========== Create request and BeautifulSoup ==========#\n",
    "url = 'https://www2.hm.com/en_us/men/products/jeans.html'\n",
    "headers = {'User-Agent': 'Mozilla/5.0 (Macintosh; Intel Mac OS X 10_11_5),AppleWebKit/537.36 (KHTML, like Gecko) Chrome/50.0.2661.102 Safari/537.36'}\n",
    "page = requests.get( url, headers=headers )\n",
    "soup = BeautifulSoup(page.text, 'html.parser')\n",
    "\n",
    "# Realizando a request do site, utilizando um agent simulando um browser para evitar problemas com a requisição\n",
    "# Basicamente, você utiliza o request para requisitar os dados do url simulando um browser\n",
    "## E instância o texto para o BeautifulSoup, para realizar a extração dos dados HTML\n",
    "### O parser é a forma que o BeautifulSoup vai ler os dados do HTML\n",
    "\n",
    "# get pagesize max to extract all items\n",
    "total_item = soup.find('h2', class_='load-more-heading')\n",
    "total_item = total_item.get('data-total')\n",
    "page_number = np.round(int(total_item)/36)\n",
    "\n",
    "# create new request to extract all items\n",
    "url01 = url + '?sort=stock&image-size=small&image=model&offset=0&page-size=' + str(int(page_number*36))\n",
    "headers = {'User-Agent': 'Mozilla/5.0 (Macintosh; Intel Mac OS X 10_11_5),AppleWebKit/537.36 (KHTML, like Gecko) Chrome/50.0.2661.102 Safari/537.36'}\n",
    "page = requests.get( url01, headers=headers )\n",
    "soup = BeautifulSoup(page.text, 'html.parser')\n",
    "\n",
    "# idxing product list\n",
    "products = soup.find('ul', class_='products-listing small')\n",
    "product_list = products.find_all('article', class_='hm-product-item')\n",
    "\n",
    "# collect all products id\n",
    "product_id = [p.get('data-articlecode') for p in product_list]\n",
    "\n",
    "# collect all products category\n",
    "product_category = [p.get('data-category') for p in product_list]\n",
    "\n",
    "# collect all products name\n",
    "product_list = products.find_all('a', class_='link')\n",
    "product_name = [p.get_text() for p in product_list]\n",
    "\n",
    "# collect all products price\n",
    "product_list = products.find_all('span',class_='price regular')\n",
    "product_price = [p.get_text() for p in product_list]\n",
    "\n",
    "# transform all collects in dataframe\n",
    "data = pd.DataFrame([product_id, product_name, product_category,product_price]).T\n",
    "data.columns = ['product_id', 'product_name', 'product_category','product_price']\n",
    "\n",
    "# created style id\n",
    "data['style_id'] = data['product_id'].apply(lambda x: x[:-3])"
   ]
  },
  {
   "cell_type": "code",
   "execution_count": 89,
   "metadata": {
    "ExecuteTime": {
     "end_time": "2021-08-12T20:34:54.426212Z",
     "start_time": "2021-08-12T20:34:54.306588Z"
    },
    "hidden": true
   },
   "outputs": [
    {
     "data": {
      "text/plain": [
       "72"
      ]
     },
     "execution_count": 89,
     "metadata": {},
     "output_type": "execute_result"
    }
   ],
   "source": [
    "len(data)"
   ]
  },
  {
   "cell_type": "markdown",
   "metadata": {
    "ExecuteTime": {
     "end_time": "2021-07-15T17:05:07.348553Z",
     "start_time": "2021-07-15T17:05:07.308551Z"
    },
    "heading_collapsed": true,
    "hidden": true
   },
   "source": [
    "## 1.1 Collect details for each page of items"
   ]
  },
  {
   "cell_type": "code",
   "execution_count": 77,
   "metadata": {
    "ExecuteTime": {
     "end_time": "2021-08-12T20:11:55.909691Z",
     "start_time": "2021-08-12T20:05:48.915939Z"
    },
    "hidden": true
   },
   "outputs": [],
   "source": [
    "headers = {'User-Agent': 'Mozilla/5.0 (Macintosh; Intel Mac OS X 10_11_5),AppleWebKit/537.36 (KHTML, like Gecko) Chrome/50.0.2661.102 Safari/537.36'}\n",
    "\n",
    "#empty dataframe\n",
    "df_compositions = pd.DataFrame()\n",
    "\n",
    "#unique columns for all products composition\n",
    "aux = []\n",
    "cols = ['product_name','price','Art. No.', 'Composition', 'Fit', 'Size']\n",
    "\n",
    "df_pattern = pd.DataFrame(columns=cols)\n",
    "\n",
    "for i in range(len(data)):\n",
    "    # API request\n",
    "    url = 'https://www2.hm.com/en_us/productpage.'+ data.loc[i, 'product_id'] +'.html'\n",
    "    page = requests.get( url, headers=headers )\n",
    "\n",
    "    # BeautifulSoup Object\n",
    "    soup = BeautifulSoup(page.text, 'html.parser')\n",
    "\n",
    "    #=======================color name====================#\n",
    "    # A primeira cor, quando esta selecionada a classe altera para active, neste sentido, criei 2 modos e coleta\n",
    "    product_list = soup.find_all('a', class_=['filter-option miniature active','filter-option miniature'])\n",
    "    color_name = [p.get('data-color') for p in product_list]\n",
    "\n",
    "    # color id\n",
    "    product_list = soup.find_all('a', class_=['filter-option miniature active','filter-option miniature'])\n",
    "    color_id = [p.get('data-articlecode') for p in product_list]\n",
    "\n",
    "    df_color = pd.DataFrame([color_id, color_name]).T\n",
    "    df_color.columns = ['product_id','color_name']\n",
    "\n",
    "    # generate style id + color id\n",
    "    df_color['style_id'] = df_color['product_id'].apply(lambda x: x[:-3])\n",
    "    df_color['color_id'] = df_color['product_id'].apply(lambda x: x[-3:])\n",
    "    \n",
    "    #======================= composition ====================#\n",
    "    for j in range(len(df_color)):\n",
    "        url = 'https://www2.hm.com/en_us/productpage.'+ df_color.loc[j, 'product_id'] +'.html'\n",
    "        page = requests.get( url, headers=headers )\n",
    "\n",
    "        # BeautifulSoup Object\n",
    "        soup = BeautifulSoup(page.text, 'html.parser')\n",
    "        \n",
    "        # product name\n",
    "        product_name = soup.find_all('h1', class_='primary product-item-headline')\n",
    "        product_name = re.findall(r'\\w+\\s\\w+', product_name[0].get_text())[0]       \n",
    "        product_name = ['product_name', product_name]\n",
    "\n",
    "        # product price\n",
    "        product_price = soup.find_all('div', class_='primary-row product-item-price')\n",
    "        product_price = re.findall(r'\\d+\\.?\\d+', product_price[0].get_text())[0]\n",
    "        product_price = ['price', product_price]\n",
    "        \n",
    "        # dataframe name and price\n",
    "        df_aux = pd.DataFrame([product_name, product_price]).T\n",
    "        df_aux.columns = df_aux.iloc[0]\n",
    "        df_aux = df_aux.iloc[1:].fillna(method='ffill')\n",
    "\n",
    "        # collect composition\n",
    "        product_composistion_list = soup.find_all('div', class_='pdp-description-list-item')\n",
    "        product_composition = [list(filter(None, p.get_text().split('\\n'))) for p in product_composistion_list]\n",
    "        \n",
    "        # rename data\n",
    "        df_composition = pd.DataFrame(product_composition).T\n",
    "        df_composition.columns = df_composition.iloc[0]\n",
    "        \n",
    "        # delete first row\n",
    "        df_composition = df_composition.iloc[1:].fillna(method='ffill')\n",
    "\n",
    "        # remove pocket and lining\n",
    "        df_composition = df_composition[~df_composition['Composition'].str.contains('Pocket lining:', na=False)]\n",
    "        df_composition = df_composition[~df_composition['Composition'].str.contains('Lining:', na=False)]\n",
    "        df_composition['Composition'] = df_composition['Composition'].apply(lambda x: x.replace('Shell:','').lower())\n",
    "\n",
    "        # garantee the same number of columns\n",
    "        df_aux = pd.merge(df_aux, df_composition, how='cross')\n",
    "\n",
    "        df_comp = pd.concat([df_pattern, df_aux], axis=0)\n",
    "        df_comp = df_comp[['product_name','price','Art. No.','Fit','Size','Composition']]\n",
    "        \n",
    "        # rename columns\n",
    "        df_comp.columns = ['product_name','price','product_id','fit','size','composition']\n",
    "\n",
    "        # keep new columns if it show up\n",
    "        aux = aux + df_composition.columns.tolist()\n",
    "\n",
    "        # merge data color + composition\n",
    "        df_comp = pd.merge(df_comp, df_color, how='left', on='product_id')\n",
    "\n",
    "        # all product\n",
    "        df_compositions = pd.concat([df_compositions, df_comp], axis =0)\n",
    "\n",
    "# Join showroom data + details\n",
    "df_compositions['style_id'] = df_compositions['product_id'].apply(lambda x: x[:-3])\n",
    "df_compositions['color_id'] = df_compositions['product_id'].apply(lambda x: x[-3:])\n",
    "\n",
    "# scrapy datetime\n",
    "df_compositions['scrapy_datetime'] = datetime.now().strftime('%Y-%m-%d %H:%M:%S')"
   ]
  },
  {
   "cell_type": "code",
   "execution_count": 78,
   "metadata": {
    "ExecuteTime": {
     "end_time": "2021-08-12T20:11:57.314504Z",
     "start_time": "2021-08-12T20:11:56.226261Z"
    },
    "hidden": true
   },
   "outputs": [
    {
     "data": {
      "text/plain": [
       "173"
      ]
     },
     "execution_count": 78,
     "metadata": {},
     "output_type": "execute_result"
    }
   ],
   "source": [
    "# size dataframe\n",
    "len(df_compositions['product_id'].unique())"
   ]
  },
  {
   "cell_type": "code",
   "execution_count": 79,
   "metadata": {
    "ExecuteTime": {
     "end_time": "2021-08-12T20:11:58.322141Z",
     "start_time": "2021-08-12T20:11:57.317495Z"
    },
    "hidden": true
   },
   "outputs": [],
   "source": [
    "# merge with data showroom\n",
    "df = pd.merge(df_compositions.reset_index(drop=True),data[['product_id', 'product_category']], how='left',on='product_id')"
   ]
  },
  {
   "cell_type": "code",
   "execution_count": 80,
   "metadata": {
    "ExecuteTime": {
     "end_time": "2021-08-12T20:11:58.354030Z",
     "start_time": "2021-08-12T20:11:58.334077Z"
    },
    "hidden": true
   },
   "outputs": [],
   "source": [
    "#df.to_csv('data-raw.csv', index=False)"
   ]
  },
  {
   "cell_type": "markdown",
   "metadata": {
    "heading_collapsed": true,
    "hide_input": false
   },
   "source": [
    "# 2. Data cleaning"
   ]
  },
  {
   "cell_type": "code",
   "execution_count": 81,
   "metadata": {
    "ExecuteTime": {
     "end_time": "2021-08-12T20:11:58.513186Z",
     "start_time": "2021-08-12T20:11:58.359010Z"
    },
    "hidden": true
   },
   "outputs": [],
   "source": [
    "#===================== Data Cleaning =====================# \n",
    "#product_id\n",
    "df = df.dropna(subset=['product_id']) \n",
    "\n",
    "# reindex\n",
    "df = df[['product_id','product_name','product_category','price','fit','style_id','color_name','color_id','composition','size','scrapy_datetime']]\n",
    "\n",
    "# product_price\n",
    "df['price'] = df['price'].astype(float)\n",
    "\n",
    "# product name\n",
    "df['product_name'] = df['product_name'].str.replace('\\n','')\n",
    "df['product_name'] = df['product_name'].str.replace('\\t','')\n",
    "df['product_name'] = df['product_name'].str.replace('®','')\n",
    "df['product_name'] = df['product_name'].str.replace(' ','_').str.lower()\n",
    "\n",
    "# color_name\n",
    "df['color_name'] = df['color_name'].apply(lambda x: x.replace(' ', '_').lower() if type(x) == str else x)\n",
    "\n",
    "# fit\n",
    "df['fit'] = df['fit'].apply(lambda x: x.replace(' ', '_').lower() if type(x) == str else x)\n",
    "\n",
    "# size number\n",
    "df['size_number'] = df['size'].apply(lambda x: re.search('\\d{3}cm', x).group(0) if pd.notnull(x) else x)\n",
    "df['size_number'] = df['size_number'].apply(lambda x: re.search('\\d{3}', x).group(0) if pd.notnull(x) else x)\n",
    "\n",
    "# size model\n",
    "df['size_model'] = df['size'].str.extract('(\\d+/\\\\d+)')\n",
    "\n",
    "# break composition comma\n",
    "df['composition'] = df['composition'].apply(lambda x: x.replace(' ',''))\n",
    "df1 = df['composition'].str.split(',', expand=True).reset_index(drop=True)\n",
    "\n",
    "df_ref = pd.DataFrame(index=np.arange(len(df)), columns=['cotton', 'polyester', 'elastane','elasterell'])\n",
    "\n",
    "#============= Break Composition Comma ==================#\n",
    "# ============= cotton\n",
    "df_cotton_0 = df1.loc[df1[0].str.contains('cotton', na=True), 0 ]\n",
    "df_cotton_0.name = 'cotton'\n",
    "\n",
    "df_cotton_1 = df1.loc[df1[1].str.contains('cotton', na=True), 1]\n",
    "df_cotton_1.name = 'cotton'\n",
    "\n",
    "# combine\n",
    "df_cotton = df_cotton_0.combine_first(df_cotton_1)\n",
    "\n",
    "# concat cotton\n",
    "df_ref = pd.concat([df_ref, df_cotton], axis=1)\n",
    "df_ref = df_ref.iloc[:, ~df_ref.columns.duplicated(keep='last')]\n",
    "\n",
    "# ============= polyester\n",
    "df_polyester = df1.loc[df1[1].str.contains('polyester', na=True), 1 ]\n",
    "df_polyester.name = 'polyester'\n",
    "\n",
    "# concat polyester\n",
    "df_ref = pd.concat([df_ref, df_polyester], axis=1)\n",
    "df_ref = df_ref.iloc[:, ~df_ref.columns.duplicated(keep='last')]\n",
    "\n",
    "# ================ elastane\n",
    "df_elastane_1 = df1.loc[df1[1].str.contains('elastane', na=True), 1]\n",
    "df_elastane_1.name = 'elastane'\n",
    "\n",
    "df_elastane_2 = df1.loc[df1[2].str.contains('elastane', na=True), 2]\n",
    "df_elastane_2.name = 'elastane'\n",
    "\n",
    "# combine\n",
    "df_elastane = df_elastane_1.combine_first(df_elastane_2)\n",
    "\n",
    "# concat elastane\n",
    "df_ref = pd.concat([df_ref, df_elastane], axis=1)\n",
    "df_ref = df_ref.iloc[:, ~df_ref.columns.duplicated(keep='last')]\n",
    "\n",
    "# ============= elasterell\n",
    "df_elasterell = df1.loc[df1[1].str.contains('elasterell', na=True), 1 ]\n",
    "df_elasterell.name = 'elasterell'\n",
    "\n",
    "# concat elasterell\n",
    "df_ref = pd.concat([df_ref, df_elasterell], axis=1)\n",
    "df_ref = df_ref.iloc[:, ~df_ref.columns.duplicated(keep='last')]\n",
    "\n",
    "df_aux = pd.concat([df['product_id'], df_ref], axis=1)\n",
    "\n",
    "# format composition data\n",
    "df_aux['cotton'] = df_aux['cotton'].apply(lambda x: int( re.search('\\d+',x).group(0)) / 100 if pd.notnull(x) else x)\n",
    "df_aux['polyester'] = df_aux['polyester'].apply(lambda x: int( re.search('\\d+',x).group(0)) / 100 if pd.notnull(x) else x)\n",
    "df_aux['elastane'] = df_aux['elastane'].apply(lambda x: int( re.search('\\d+',x).group(0)) / 100 if pd.notnull(x) else x)\n",
    "df_aux['elasterell'] = df_aux['elasterell'].apply(lambda x: int( re.search('\\d+',x).group(0)) / 100 if pd.notnull(x) else x)\n",
    "\n",
    "# final join\n",
    "df_aux = df_aux.fillna(0)\n",
    "df = pd.merge(df, df_aux, on='product_id',how='left')\n",
    "\n",
    "# drop columns\n",
    "df = df.drop(columns=['size','composition'], axis=1)\n",
    "\n",
    "# drop duplicates\n",
    "df = df.drop_duplicates().reset_index(drop=True)"
   ]
  },
  {
   "cell_type": "code",
   "execution_count": 82,
   "metadata": {
    "ExecuteTime": {
     "end_time": "2021-08-12T20:11:58.529139Z",
     "start_time": "2021-08-12T20:11:58.516173Z"
    },
    "hidden": true
   },
   "outputs": [
    {
     "data": {
      "text/plain": [
       "174"
      ]
     },
     "execution_count": 82,
     "metadata": {},
     "output_type": "execute_result"
    }
   ],
   "source": [
    "len(df)"
   ]
  },
  {
   "cell_type": "code",
   "execution_count": 13,
   "metadata": {
    "ExecuteTime": {
     "end_time": "2021-07-28T13:27:02.305273Z",
     "start_time": "2021-07-28T13:27:02.282335Z"
    },
    "hidden": true
   },
   "outputs": [],
   "source": [
    "#df.to_csv('data-cleaned.csv', index=False)"
   ]
  },
  {
   "cell_type": "markdown",
   "metadata": {
    "heading_collapsed": true
   },
   "source": [
    "# 3.0 Create database"
   ]
  },
  {
   "cell_type": "code",
   "execution_count": 84,
   "metadata": {
    "ExecuteTime": {
     "end_time": "2021-08-12T20:16:25.317261Z",
     "start_time": "2021-08-12T20:16:25.307288Z"
    },
    "hidden": true
   },
   "outputs": [],
   "source": [
    "data_insert = df[['product_id', 'style_id', 'color_id', 'product_name', 'product_category', 'color_name', 'fit', 'price', 'size_number', 'size_model', 'cotton', 'polyester', 'elastane', 'elasterell', 'scrapy_datetime']]"
   ]
  },
  {
   "cell_type": "code",
   "execution_count": 74,
   "metadata": {
    "ExecuteTime": {
     "end_time": "2021-08-12T20:03:36.449570Z",
     "start_time": "2021-08-12T20:03:36.391724Z"
    },
    "code_folding": [
     0
    ],
    "hidden": true
   },
   "outputs": [
    {
     "ename": "OperationalError",
     "evalue": "table showroom already exists",
     "output_type": "error",
     "traceback": [
      "\u001b[1;31m---------------------------------------------------------------------------\u001b[0m",
      "\u001b[1;31mOperationalError\u001b[0m                          Traceback (most recent call last)",
      "\u001b[1;32m~\\AppData\\Local\\Temp/ipykernel_604096/1569971705.py\u001b[0m in \u001b[0;36m<module>\u001b[1;34m\u001b[0m\n\u001b[0;32m     24\u001b[0m \u001b[1;31m# execute query schema\u001b[0m\u001b[1;33m\u001b[0m\u001b[1;33m\u001b[0m\u001b[1;33m\u001b[0m\u001b[0m\n\u001b[0;32m     25\u001b[0m \u001b[0mconn\u001b[0m \u001b[1;33m=\u001b[0m \u001b[0msqlite3\u001b[0m\u001b[1;33m.\u001b[0m\u001b[0mconnect\u001b[0m\u001b[1;33m(\u001b[0m\u001b[1;34m'database_hm.sqlite'\u001b[0m\u001b[1;33m)\u001b[0m\u001b[1;33m\u001b[0m\u001b[1;33m\u001b[0m\u001b[0m\n\u001b[1;32m---> 26\u001b[1;33m \u001b[0mcursor\u001b[0m \u001b[1;33m=\u001b[0m \u001b[0mconn\u001b[0m\u001b[1;33m.\u001b[0m\u001b[0mexecute\u001b[0m\u001b[1;33m(\u001b[0m\u001b[0mquery_schema\u001b[0m\u001b[1;33m)\u001b[0m\u001b[1;33m\u001b[0m\u001b[1;33m\u001b[0m\u001b[0m\n\u001b[0m\u001b[0;32m     27\u001b[0m \u001b[0mconn\u001b[0m\u001b[1;33m.\u001b[0m\u001b[0mcommit\u001b[0m\u001b[1;33m(\u001b[0m\u001b[1;33m)\u001b[0m\u001b[1;33m\u001b[0m\u001b[1;33m\u001b[0m\u001b[0m\n",
      "\u001b[1;31mOperationalError\u001b[0m: table showroom already exists"
     ]
    }
   ],
   "source": [
    "# create database\n",
    "\n",
    "#query_schema = \"\"\"\n",
    "#    CREATE TABLE showroom(\n",
    "#        product_id         TEXT,\n",
    "#        style_id           TEXT,\n",
    "#        color_id           TEXT,\n",
    "#        product_name       TEXT, \n",
    "#        product_category   TEXT,\n",
    "#        color_name         TEXT,\n",
    "#        fit                TEXT,\n",
    "#        price              REAL,\n",
    "#        size_number        REAL,\n",
    "#        size_model         TEXT,\n",
    "#        cotton             REAL,\n",
    "#        polyester          REAL, \n",
    "#        elastane           REAL,\n",
    "#        elasterell         REAL,\n",
    "#        scrapy_datetime    TEXT\n",
    "#\n",
    "#    )\n",
    "#\"\"\"\n",
    "\n",
    "# execute query schema\n",
    "#conn = sqlite3.connect('database_hm.sqlite')\n",
    "#cursor = conn.execute(query_schema)\n",
    "#conn.commit()"
   ]
  },
  {
   "cell_type": "code",
   "execution_count": 85,
   "metadata": {
    "ExecuteTime": {
     "end_time": "2021-08-12T20:16:31.702214Z",
     "start_time": "2021-08-12T20:16:31.604475Z"
    },
    "code_folding": [
     0
    ],
    "hidden": true
   },
   "outputs": [],
   "source": [
    "# connect to db and execute query's\n",
    "conn = create_engine('sqlite:///database_hm.sqlite', echo=False)\n",
    "\n",
    "#insert data\n",
    "data_insert.to_sql('showroom', con=conn, if_exists='append', index=False)"
   ]
  },
  {
   "cell_type": "code",
   "execution_count": 7,
   "metadata": {
    "ExecuteTime": {
     "end_time": "2021-08-13T15:59:53.096278Z",
     "start_time": "2021-08-13T15:59:52.662066Z"
    },
    "code_folding": [
     0
    ],
    "hidden": true
   },
   "outputs": [
    {
     "data": {
      "text/html": [
       "<div>\n",
       "<style scoped>\n",
       "    .dataframe tbody tr th:only-of-type {\n",
       "        vertical-align: middle;\n",
       "    }\n",
       "\n",
       "    .dataframe tbody tr th {\n",
       "        vertical-align: top;\n",
       "    }\n",
       "\n",
       "    .dataframe thead th {\n",
       "        text-align: right;\n",
       "    }\n",
       "</style>\n",
       "<table border=\"1\" class=\"dataframe\">\n",
       "  <thead>\n",
       "    <tr style=\"text-align: right;\">\n",
       "      <th></th>\n",
       "      <th>product_id</th>\n",
       "      <th>style_id</th>\n",
       "      <th>color_id</th>\n",
       "      <th>product_name</th>\n",
       "      <th>product_category</th>\n",
       "      <th>color_name</th>\n",
       "      <th>fit</th>\n",
       "      <th>price</th>\n",
       "      <th>size_number</th>\n",
       "      <th>size_model</th>\n",
       "      <th>cotton</th>\n",
       "      <th>polyester</th>\n",
       "      <th>elastane</th>\n",
       "      <th>elasterell</th>\n",
       "      <th>scrapy_datetime</th>\n",
       "    </tr>\n",
       "  </thead>\n",
       "  <tbody>\n",
       "    <tr>\n",
       "      <th>0</th>\n",
       "      <td>0985159001</td>\n",
       "      <td>0985159</td>\n",
       "      <td>001</td>\n",
       "      <td>skinny_jeans</td>\n",
       "      <td>men_jeans_skinny</td>\n",
       "      <td>black</td>\n",
       "      <td>skinny_fit</td>\n",
       "      <td>19.99</td>\n",
       "      <td>187</td>\n",
       "      <td>31/32</td>\n",
       "      <td>0.99</td>\n",
       "      <td>0.0</td>\n",
       "      <td>0.01</td>\n",
       "      <td>0.0</td>\n",
       "      <td>2021-08-13 12:42:17</td>\n",
       "    </tr>\n",
       "    <tr>\n",
       "      <th>1</th>\n",
       "      <td>0985159002</td>\n",
       "      <td>0985159</td>\n",
       "      <td>002</td>\n",
       "      <td>skinny_jeans</td>\n",
       "      <td>men_jeans_skinny</td>\n",
       "      <td>denim_blue</td>\n",
       "      <td>skinny_fit</td>\n",
       "      <td>19.99</td>\n",
       "      <td>187</td>\n",
       "      <td>31/32</td>\n",
       "      <td>0.99</td>\n",
       "      <td>0.0</td>\n",
       "      <td>0.01</td>\n",
       "      <td>0.0</td>\n",
       "      <td>2021-08-13 12:42:17</td>\n",
       "    </tr>\n",
       "    <tr>\n",
       "      <th>2</th>\n",
       "      <td>0985159003</td>\n",
       "      <td>0985159</td>\n",
       "      <td>003</td>\n",
       "      <td>skinny_jeans</td>\n",
       "      <td>men_jeans_skinny</td>\n",
       "      <td>dark_gray</td>\n",
       "      <td>skinny_fit</td>\n",
       "      <td>19.99</td>\n",
       "      <td>None</td>\n",
       "      <td>None</td>\n",
       "      <td>0.99</td>\n",
       "      <td>0.0</td>\n",
       "      <td>0.01</td>\n",
       "      <td>0.0</td>\n",
       "      <td>2021-08-13 12:42:17</td>\n",
       "    </tr>\n",
       "    <tr>\n",
       "      <th>3</th>\n",
       "      <td>0985159004</td>\n",
       "      <td>0985159</td>\n",
       "      <td>004</td>\n",
       "      <td>skinny_jeans</td>\n",
       "      <td>men_jeans_skinny</td>\n",
       "      <td>light_denim_blue</td>\n",
       "      <td>skinny_fit</td>\n",
       "      <td>19.99</td>\n",
       "      <td>None</td>\n",
       "      <td>None</td>\n",
       "      <td>0.99</td>\n",
       "      <td>0.0</td>\n",
       "      <td>0.01</td>\n",
       "      <td>0.0</td>\n",
       "      <td>2021-08-13 12:42:17</td>\n",
       "    </tr>\n",
       "    <tr>\n",
       "      <th>4</th>\n",
       "      <td>0985159005</td>\n",
       "      <td>0985159</td>\n",
       "      <td>005</td>\n",
       "      <td>skinny_jeans</td>\n",
       "      <td>men_jeans_skinny</td>\n",
       "      <td>dark_blue</td>\n",
       "      <td>skinny_fit</td>\n",
       "      <td>19.99</td>\n",
       "      <td>187</td>\n",
       "      <td>32/32</td>\n",
       "      <td>0.99</td>\n",
       "      <td>0.0</td>\n",
       "      <td>0.01</td>\n",
       "      <td>0.0</td>\n",
       "      <td>2021-08-13 12:42:17</td>\n",
       "    </tr>\n",
       "    <tr>\n",
       "      <th>...</th>\n",
       "      <td>...</td>\n",
       "      <td>...</td>\n",
       "      <td>...</td>\n",
       "      <td>...</td>\n",
       "      <td>...</td>\n",
       "      <td>...</td>\n",
       "      <td>...</td>\n",
       "      <td>...</td>\n",
       "      <td>...</td>\n",
       "      <td>...</td>\n",
       "      <td>...</td>\n",
       "      <td>...</td>\n",
       "      <td>...</td>\n",
       "      <td>...</td>\n",
       "      <td>...</td>\n",
       "    </tr>\n",
       "    <tr>\n",
       "      <th>173</th>\n",
       "      <td>0890565001</td>\n",
       "      <td>0890565</td>\n",
       "      <td>001</td>\n",
       "      <td>regular_selvedge</td>\n",
       "      <td>None</td>\n",
       "      <td>denim_blue</td>\n",
       "      <td>regular_fit</td>\n",
       "      <td>28.99</td>\n",
       "      <td>None</td>\n",
       "      <td>None</td>\n",
       "      <td>0.98</td>\n",
       "      <td>0.0</td>\n",
       "      <td>0.02</td>\n",
       "      <td>0.0</td>\n",
       "      <td>2021-08-13 12:42:17</td>\n",
       "    </tr>\n",
       "    <tr>\n",
       "      <th>174</th>\n",
       "      <td>0890565004</td>\n",
       "      <td>0890565</td>\n",
       "      <td>004</td>\n",
       "      <td>regular_selvedge</td>\n",
       "      <td>None</td>\n",
       "      <td>denim_gray</td>\n",
       "      <td>regular_fit</td>\n",
       "      <td>28.99</td>\n",
       "      <td>None</td>\n",
       "      <td>None</td>\n",
       "      <td>0.98</td>\n",
       "      <td>0.0</td>\n",
       "      <td>0.02</td>\n",
       "      <td>0.0</td>\n",
       "      <td>2021-08-13 12:42:17</td>\n",
       "    </tr>\n",
       "    <tr>\n",
       "      <th>175</th>\n",
       "      <td>0890565005</td>\n",
       "      <td>0890565</td>\n",
       "      <td>005</td>\n",
       "      <td>regular_selvedge</td>\n",
       "      <td>None</td>\n",
       "      <td>black</td>\n",
       "      <td>regular_fit</td>\n",
       "      <td>49.99</td>\n",
       "      <td>None</td>\n",
       "      <td>None</td>\n",
       "      <td>0.98</td>\n",
       "      <td>0.0</td>\n",
       "      <td>0.02</td>\n",
       "      <td>0.0</td>\n",
       "      <td>2021-08-13 12:42:17</td>\n",
       "    </tr>\n",
       "    <tr>\n",
       "      <th>176</th>\n",
       "      <td>0890565006</td>\n",
       "      <td>0890565</td>\n",
       "      <td>006</td>\n",
       "      <td>regular_selvedge</td>\n",
       "      <td>None</td>\n",
       "      <td>denim_blue</td>\n",
       "      <td>regular_fit</td>\n",
       "      <td>49.99</td>\n",
       "      <td>None</td>\n",
       "      <td>None</td>\n",
       "      <td>0.98</td>\n",
       "      <td>0.0</td>\n",
       "      <td>0.02</td>\n",
       "      <td>0.0</td>\n",
       "      <td>2021-08-13 12:42:17</td>\n",
       "    </tr>\n",
       "    <tr>\n",
       "      <th>177</th>\n",
       "      <td>0890565007</td>\n",
       "      <td>0890565</td>\n",
       "      <td>007</td>\n",
       "      <td>regular_selvedge</td>\n",
       "      <td>men_jeans_regular</td>\n",
       "      <td>light_denim_blue</td>\n",
       "      <td>regular_fit</td>\n",
       "      <td>49.99</td>\n",
       "      <td>None</td>\n",
       "      <td>None</td>\n",
       "      <td>0.98</td>\n",
       "      <td>0.0</td>\n",
       "      <td>0.02</td>\n",
       "      <td>0.0</td>\n",
       "      <td>2021-08-13 12:42:17</td>\n",
       "    </tr>\n",
       "  </tbody>\n",
       "</table>\n",
       "<p>178 rows × 15 columns</p>\n",
       "</div>"
      ],
      "text/plain": [
       "     product_id style_id color_id      product_name   product_category  \\\n",
       "0    0985159001  0985159      001      skinny_jeans   men_jeans_skinny   \n",
       "1    0985159002  0985159      002      skinny_jeans   men_jeans_skinny   \n",
       "2    0985159003  0985159      003      skinny_jeans   men_jeans_skinny   \n",
       "3    0985159004  0985159      004      skinny_jeans   men_jeans_skinny   \n",
       "4    0985159005  0985159      005      skinny_jeans   men_jeans_skinny   \n",
       "..          ...      ...      ...               ...                ...   \n",
       "173  0890565001  0890565      001  regular_selvedge               None   \n",
       "174  0890565004  0890565      004  regular_selvedge               None   \n",
       "175  0890565005  0890565      005  regular_selvedge               None   \n",
       "176  0890565006  0890565      006  regular_selvedge               None   \n",
       "177  0890565007  0890565      007  regular_selvedge  men_jeans_regular   \n",
       "\n",
       "           color_name          fit  price size_number size_model  cotton  \\\n",
       "0               black   skinny_fit  19.99         187      31/32    0.99   \n",
       "1          denim_blue   skinny_fit  19.99         187      31/32    0.99   \n",
       "2           dark_gray   skinny_fit  19.99        None       None    0.99   \n",
       "3    light_denim_blue   skinny_fit  19.99        None       None    0.99   \n",
       "4           dark_blue   skinny_fit  19.99         187      32/32    0.99   \n",
       "..                ...          ...    ...         ...        ...     ...   \n",
       "173        denim_blue  regular_fit  28.99        None       None    0.98   \n",
       "174        denim_gray  regular_fit  28.99        None       None    0.98   \n",
       "175             black  regular_fit  49.99        None       None    0.98   \n",
       "176        denim_blue  regular_fit  49.99        None       None    0.98   \n",
       "177  light_denim_blue  regular_fit  49.99        None       None    0.98   \n",
       "\n",
       "     polyester  elastane  elasterell      scrapy_datetime  \n",
       "0          0.0      0.01         0.0  2021-08-13 12:42:17  \n",
       "1          0.0      0.01         0.0  2021-08-13 12:42:17  \n",
       "2          0.0      0.01         0.0  2021-08-13 12:42:17  \n",
       "3          0.0      0.01         0.0  2021-08-13 12:42:17  \n",
       "4          0.0      0.01         0.0  2021-08-13 12:42:17  \n",
       "..         ...       ...         ...                  ...  \n",
       "173        0.0      0.02         0.0  2021-08-13 12:42:17  \n",
       "174        0.0      0.02         0.0  2021-08-13 12:42:17  \n",
       "175        0.0      0.02         0.0  2021-08-13 12:42:17  \n",
       "176        0.0      0.02         0.0  2021-08-13 12:42:17  \n",
       "177        0.0      0.02         0.0  2021-08-13 12:42:17  \n",
       "\n",
       "[178 rows x 15 columns]"
      ]
     },
     "execution_count": 7,
     "metadata": {},
     "output_type": "execute_result"
    }
   ],
   "source": [
    "# Select\n",
    "conn = create_engine('sqlite:///database_hm.sqlite', echo=False)\n",
    "\n",
    "query = \"\"\"\n",
    "    SELECT *\n",
    "    FROM showroom\n",
    "\"\"\"\n",
    "\n",
    "# read db\n",
    "df_db = pd.read_sql_query(query, conn)\n",
    "df_db"
   ]
  },
  {
   "cell_type": "code",
   "execution_count": 4,
   "metadata": {
    "ExecuteTime": {
     "end_time": "2021-08-13T15:33:49.304768Z",
     "start_time": "2021-08-13T15:33:49.281958Z"
    },
    "code_folding": [
     0
    ],
    "hidden": true
   },
   "outputs": [],
   "source": [
    "#Drop Table\n",
    "query_drop = \"\"\"\n",
    "DROP TABLE showroom\n",
    "\"\"\"\n",
    "#conn = sqlite3.connect('database_hm.sqlite')\n",
    "#cursor = conn.execute(query_drop)"
   ]
  },
  {
   "cell_type": "markdown",
   "metadata": {
    "heading_collapsed": true
   },
   "source": [
    "# 3.1 Pratice time! (commands SQL)"
   ]
  },
  {
   "cell_type": "code",
   "execution_count": null,
   "metadata": {
    "ExecuteTime": {
     "end_time": "2021-07-21T23:22:23.791117Z",
     "start_time": "2021-07-21T23:22:23.750100Z"
    },
    "hidden": true
   },
   "outputs": [],
   "source": [
    "query = \"\"\"\n",
    "    SELECT product_name, product_category, color_name, AVG(product_price) as \"mean price\"\n",
    "    FROM showroom\n",
    "    GROUP BY product_name, product_category, color_name\n",
    "\"\"\"\n",
    "\n",
    "# read db\n",
    "df = pd.read_sql_query(query, conn)\n",
    "df"
   ]
  },
  {
   "cell_type": "code",
   "execution_count": null,
   "metadata": {
    "ExecuteTime": {
     "end_time": "2021-07-21T23:19:10.596236Z",
     "start_time": "2021-07-21T23:19:10.566937Z"
    },
    "hidden": true
   },
   "outputs": [],
   "source": [
    "query = \"\"\"\n",
    "    SELECT product_category, AVG(product_price) as \"mean price\"\n",
    "    FROM showroom\n",
    "    GROUP BY product_category\n",
    "    ORDER BY CAST (\"mean price\" as REAL) DESC\n",
    "\"\"\"\n",
    "\n",
    "# read db\n",
    "df = pd.read_sql_query(query, conn)\n",
    "df"
   ]
  },
  {
   "cell_type": "code",
   "execution_count": null,
   "metadata": {
    "ExecuteTime": {
     "end_time": "2021-07-21T23:21:13.595731Z",
     "start_time": "2021-07-21T23:21:13.558628Z"
    },
    "hidden": true
   },
   "outputs": [],
   "source": [
    "query = \"\"\"\n",
    "    SELECT product_category, AVG(product_price) as \"mean price\", AVG(cotton), AVG(polyester), AVG(elastane), AVG(elasterell)\n",
    "    FROM showroom\n",
    "    GROUP BY product_category\n",
    "    ORDER BY CAST (\"mean price\" as REAL) DESC\n",
    "\"\"\"\n",
    "\n",
    "# read db\n",
    "df = pd.read_sql_query(query, conn)\n",
    "df"
   ]
  },
  {
   "cell_type": "code",
   "execution_count": null,
   "metadata": {
    "hidden": true
   },
   "outputs": [],
   "source": []
  }
 ],
 "metadata": {
  "kernelspec": {
   "display_name": "Python 3 (ipykernel)",
   "language": "python",
   "name": "python3"
  },
  "language_info": {
   "codemirror_mode": {
    "name": "ipython",
    "version": 3
   },
   "file_extension": ".py",
   "mimetype": "text/x-python",
   "name": "python",
   "nbconvert_exporter": "python",
   "pygments_lexer": "ipython3",
   "version": "3.8.5"
  }
 },
 "nbformat": 4,
 "nbformat_minor": 4
}
