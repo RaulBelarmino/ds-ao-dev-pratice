{
 "cells": [
  {
   "cell_type": "code",
   "execution_count": 1,
   "metadata": {
    "ExecuteTime": {
     "end_time": "2021-07-16T19:54:44.417332Z",
     "start_time": "2021-07-16T19:54:43.509356Z"
    }
   },
   "outputs": [],
   "source": [
    "import pandas as pd\n",
    "import numpy as np\n",
    "import requests\n",
    "from bs4 import BeautifulSoup\n",
    "from datetime import datetime"
   ]
  },
  {
   "cell_type": "code",
   "execution_count": 2,
   "metadata": {
    "ExecuteTime": {
     "end_time": "2021-07-16T19:54:45.219336Z",
     "start_time": "2021-07-16T19:54:44.973222Z"
    }
   },
   "outputs": [],
   "source": [
    "# Realizando a request do site, utilizando um agent simulando um browser para evitar problemas com a requisição\n",
    "url = 'https://www2.hm.com/en_us/men/products/jeans.html'\n",
    "headers = {'User-Agent': 'Mozilla/5.0 (Macintosh; Intel Mac OS X 10_11_5),AppleWebKit/537.36 (KHTML, like Gecko) Chrome/50.0.2661.102 Safari/537.36'}\n",
    "page = requests.get( url, headers=headers )"
   ]
  },
  {
   "cell_type": "code",
   "execution_count": 3,
   "metadata": {
    "ExecuteTime": {
     "end_time": "2021-07-16T19:54:45.615281Z",
     "start_time": "2021-07-16T19:54:45.224328Z"
    }
   },
   "outputs": [],
   "source": [
    "# Basicamente, você utiliza o request para requisitar os dados do url simulando um browser\n",
    "## E o instância o texto para o BeautifulSoup, para realizar a extração dos dados HTML\n",
    "### O parser é a forma que o BeautifulSoup vai ler os dados do HTML\n",
    "soup = BeautifulSoup(page.text, 'html.parser')"
   ]
  },
  {
   "cell_type": "code",
   "execution_count": 4,
   "metadata": {
    "ExecuteTime": {
     "end_time": "2021-07-16T19:54:45.662155Z",
     "start_time": "2021-07-16T19:54:45.621267Z"
    }
   },
   "outputs": [],
   "source": [
    "total_item = soup.find('h2', class_='load-more-heading')\n",
    "total_item = total_item.get('data-total')\n",
    "\n",
    "page_number = np.round(int(total_item)/36)"
   ]
  },
  {
   "cell_type": "code",
   "execution_count": 5,
   "metadata": {
    "ExecuteTime": {
     "end_time": "2021-07-16T19:54:46.266927Z",
     "start_time": "2021-07-16T19:54:45.665149Z"
    }
   },
   "outputs": [],
   "source": [
    "url01 = url + '?sort=stock&image-size=small&image=model&offset=0&page-size=' + str(int(page_number*36))\n",
    "headers = {'User-Agent': 'Mozilla/5.0 (Macintosh; Intel Mac OS X 10_11_5),AppleWebKit/537.36 (KHTML, like Gecko) Chrome/50.0.2661.102 Safari/537.36'}\n",
    "page = requests.get( url01, headers=headers )\n",
    "soup = BeautifulSoup(page.text, 'html.parser')"
   ]
  },
  {
   "cell_type": "code",
   "execution_count": 6,
   "metadata": {
    "ExecuteTime": {
     "end_time": "2021-07-16T19:54:46.314046Z",
     "start_time": "2021-07-16T19:54:46.266927Z"
    }
   },
   "outputs": [],
   "source": [
    "# Indexar a busca na lista de produtos\n",
    "products = soup.find('ul', class_='products-listing small')"
   ]
  },
  {
   "cell_type": "code",
   "execution_count": 7,
   "metadata": {
    "ExecuteTime": {
     "end_time": "2021-07-16T19:54:46.345962Z",
     "start_time": "2021-07-16T19:54:46.318037Z"
    }
   },
   "outputs": [],
   "source": [
    "product_list = products.find_all('article', class_='hm-product-item')"
   ]
  },
  {
   "cell_type": "code",
   "execution_count": 8,
   "metadata": {
    "ExecuteTime": {
     "end_time": "2021-07-16T19:54:46.361920Z",
     "start_time": "2021-07-16T19:54:46.350948Z"
    }
   },
   "outputs": [],
   "source": [
    "# Id\n",
    "product_id = [p.get('data-articlecode') for p in product_list]"
   ]
  },
  {
   "cell_type": "code",
   "execution_count": 9,
   "metadata": {
    "ExecuteTime": {
     "end_time": "2021-07-16T19:54:46.393833Z",
     "start_time": "2021-07-16T19:54:46.371893Z"
    }
   },
   "outputs": [],
   "source": [
    "# Product Category\n",
    "product_category = [p.get('data-category') for p in product_list]"
   ]
  },
  {
   "cell_type": "code",
   "execution_count": 10,
   "metadata": {
    "ExecuteTime": {
     "end_time": "2021-07-16T19:54:46.612198Z",
     "start_time": "2021-07-16T19:54:46.581054Z"
    }
   },
   "outputs": [],
   "source": [
    "# Product Name\n",
    "product_list = products.find_all('a', class_='link')\n",
    "product_name = [p.get_text() for p in product_list]"
   ]
  },
  {
   "cell_type": "code",
   "execution_count": 13,
   "metadata": {
    "ExecuteTime": {
     "end_time": "2021-07-16T19:54:48.126284Z",
     "start_time": "2021-07-16T19:54:48.099355Z"
    }
   },
   "outputs": [],
   "source": [
    "# Product Price\n",
    "product_list = products.find_all('span',class_='price regular')\n",
    "product_price = [p.get_text() for p in product_list]"
   ]
  },
  {
   "cell_type": "code",
   "execution_count": 14,
   "metadata": {
    "ExecuteTime": {
     "end_time": "2021-07-16T19:54:48.597933Z",
     "start_time": "2021-07-16T19:54:48.567016Z"
    },
    "scrolled": false
   },
   "outputs": [],
   "source": [
    "# Create a DataFrame\n",
    "data = pd.DataFrame([product_id, product_name, product_category,product_price]).T\n",
    "data.columns = ['product_id', 'product_name', 'product_category','product_price']\n",
    "\n",
    "# Scrapy date-time\n",
    "data['scrapy-datetime'] = datetime.now().strftime('%Y-%m-%d %H:%M:%S')"
   ]
  },
  {
   "cell_type": "markdown",
   "metadata": {},
   "source": [
    "## One product scrapy"
   ]
  },
  {
   "cell_type": "code",
   "execution_count": null,
   "metadata": {
    "ExecuteTime": {
     "end_time": "2021-07-16T19:50:03.740917Z",
     "start_time": "2021-07-16T19:50:02.525901Z"
    }
   },
   "outputs": [],
   "source": [
    "# Get color and composition one product - API request\n",
    "\n",
    "url = 'https://www2.hm.com/en_us/productpage.0985197001.html'\n",
    "headers = {'User-Agent': 'Mozilla/5.0 (Macintosh; Intel Mac OS X 10_11_5),AppleWebKit/537.36 (KHTML, like Gecko) Chrome/50.0.2661.102 Safari/537.36'}\n",
    "page = requests.get( url, headers=headers )\n",
    "\n",
    "# BeautifulSoup Object\n",
    "soup = BeautifulSoup(page.text, 'html.parser')\n",
    "\n",
    "#=======================color name====================#\n",
    "# A primeira cor, quando esta selecionada a classe altera para active, neste sentido, criei 2 modos e coleta\n",
    "product_list = soup.find_all('a', class_='filter-option miniature active')\n",
    "color_name = [p.get('data-color') for p in product_list]\n",
    "\n",
    "product_list = soup.find_all('a', class_='filter-option miniature')\n",
    "color_name2 = [p.get('data-color') for p in product_list]\n",
    "\n",
    "color_name = color_name + color_name2\n",
    "\n",
    "# color id\n",
    "product_list = soup.find_all('a', class_='filter-option miniature active')\n",
    "color_id1 = [p.get('data-articlecode') for p in product_list]\n",
    "\n",
    "product_list = soup.find_all('a', class_='filter-option miniature')\n",
    "color_id2 = [p.get('data-articlecode') for p in product_list]\n",
    "\n",
    "color_id = color_id1 + color_id2\n",
    "\n",
    "df_color = pd.DataFrame([color_id, color_name]).T\n",
    "df_color.columns = ['product_id','color_name']\n",
    "\n",
    "# generate style id + color id\n",
    "df_color['style_id'] = df_color['product_id'].apply(lambda x: x[:-3])\n",
    "df_color['color_id'] = df_color['product_id'].apply(lambda x: x[-3:])\n",
    "\n",
    "#======================= composition ====================#\n",
    "product_composistion_list = soup.find_all('div', class_='pdp-description-list-item')\n",
    "product_composition = [list(filter(None, p.get_text().split('\\n'))) for p in product_composistion_list]\n",
    "\n",
    "# rename dataframe\n",
    "df_composition = pd.DataFrame(product_composition).T\n",
    "df_composition.columns = df_composition.iloc[0]\n",
    "\n",
    "# drop first row\n",
    "df_composition = df_composition.iloc[1:].fillna(method='ffill')\n",
    "df_composition\n",
    "\n",
    "# generate style id\n",
    "df_composition['style_id'] = df_composition['Art. No.'].apply(lambda x: x[:-3])\n",
    "df_composition\n",
    "\n",
    "#======================= merge ====================#\n",
    "data_sku = pd.merge(df_color, df_composition[['style_id','Fit','Composition']], how='left', on='style_id')"
   ]
  },
  {
   "cell_type": "markdown",
   "metadata": {
    "ExecuteTime": {
     "end_time": "2021-07-15T17:05:07.348553Z",
     "start_time": "2021-07-15T17:05:07.308551Z"
    }
   },
   "source": [
    "## Multi products scrapy"
   ]
  },
  {
   "cell_type": "code",
   "execution_count": 15,
   "metadata": {
    "ExecuteTime": {
     "end_time": "2021-07-16T19:55:19.999204Z",
     "start_time": "2021-07-16T19:54:52.724565Z"
    }
   },
   "outputs": [],
   "source": [
    "headers = {'User-Agent': 'Mozilla/5.0 (Macintosh; Intel Mac OS X 10_11_5),AppleWebKit/537.36 (KHTML, like Gecko) Chrome/50.0.2661.102 Safari/537.36'}\n",
    "\n",
    "#empty dataframe\n",
    "data_details = pd.DataFrame()\n",
    "\n",
    "#unique columns for all products composition\n",
    "aux = []\n",
    "\n",
    "cols = ['Art. No.', 'Composition', 'Fit', 'More sustainable materials', 'Product safety', 'Size']\n",
    "\n",
    "df_pattern = pd.DataFrame(columns=cols)\n",
    "\n",
    "for i in range(len(data)):\n",
    "    # Get color and composition one product - API request\n",
    "    url = 'https://www2.hm.com/en_us/productpage.'+ data.loc[i, 'product_id'] +'.html'\n",
    "    page = requests.get( url, headers=headers )\n",
    "\n",
    "    # BeautifulSoup Object\n",
    "    soup = BeautifulSoup(page.text, 'html.parser')\n",
    "\n",
    "    #=======================color name====================#\n",
    "    # A primeira cor, quando esta selecionada a classe altera para active, neste sentido, criei 2 modos e coleta\n",
    "    product_list = soup.find_all('a', class_=['filter-option miniature active','filter-option miniature'])\n",
    "    color_name = [p.get('data-color') for p in product_list]\n",
    "\n",
    "    # color id\n",
    "    product_list = soup.find_all('a', class_=['filter-option miniature active','filter-option miniature'])\n",
    "    color_id = [p.get('data-articlecode') for p in product_list]\n",
    "\n",
    "    df_color = pd.DataFrame([color_id, color_name]).T\n",
    "    df_color.columns = ['product_id','color_name']\n",
    "\n",
    "    # generate style id + color id\n",
    "    df_color['style_id'] = df_color['product_id'].apply(lambda x: x[:-3])\n",
    "    df_color['color_id'] = df_color['product_id'].apply(lambda x: x[-3:])\n",
    "\n",
    "    #======================= composition ====================#\n",
    "    product_composistion_list = soup.find_all('div', class_='pdp-description-list-item')\n",
    "    product_composition = [list(filter(None, p.get_text().split('\\n'))) for p in product_composistion_list]\n",
    "\n",
    "    # rename dataframe\n",
    "    df_composition = pd.DataFrame(product_composition).T\n",
    "    df_composition.columns = df_composition.iloc[0]\n",
    "\n",
    "    # drop first row\n",
    "    df_composition = df_composition.iloc[1:].fillna(method='ffill')\n",
    "\n",
    "    # garantee the same number of columns\n",
    "    df_compostion = pd.concat([df_pattern, df_composition], axis=0)\n",
    "    \n",
    "    # generate style id\n",
    "    df_composition['style_id'] = df_composition['Art. No.'].apply(lambda x: x[:-3])\n",
    "    \n",
    "    aux = aux + df_composition.columns.tolist()\n",
    "    \n",
    "    #======================= merge ====================#\n",
    "    data_sku = pd.merge(df_color, df_composition, how='left', on='style_id')\n",
    "    \n",
    "    # all products details\n",
    "    data_details = pd.concat([data_details, data_sku], axis=0)\n",
    "\n",
    "# join data showroom + data details\n",
    "data['style_id'] = data['product_id'].apply(lambda x: x[:-3])\n",
    "data_raw = pd.merge(data, data_details[['style_id','color_id','color_name','Fit','Composition','Product safety','Size','More sustainable materials']], how='left', on='style_id')"
   ]
  },
  {
   "cell_type": "code",
   "execution_count": 16,
   "metadata": {
    "ExecuteTime": {
     "end_time": "2021-07-16T19:55:20.061605Z",
     "start_time": "2021-07-16T19:55:19.999204Z"
    }
   },
   "outputs": [
    {
     "data": {
      "text/html": [
       "<div>\n",
       "<style scoped>\n",
       "    .dataframe tbody tr th:only-of-type {\n",
       "        vertical-align: middle;\n",
       "    }\n",
       "\n",
       "    .dataframe tbody tr th {\n",
       "        vertical-align: top;\n",
       "    }\n",
       "\n",
       "    .dataframe thead th {\n",
       "        text-align: right;\n",
       "    }\n",
       "</style>\n",
       "<table border=\"1\" class=\"dataframe\">\n",
       "  <thead>\n",
       "    <tr style=\"text-align: right;\">\n",
       "      <th></th>\n",
       "      <th>product_id</th>\n",
       "      <th>product_name</th>\n",
       "      <th>product_category</th>\n",
       "      <th>product_price</th>\n",
       "      <th>scrapy-datetime</th>\n",
       "      <th>style_id</th>\n",
       "      <th>color_id</th>\n",
       "      <th>color_name</th>\n",
       "      <th>Fit</th>\n",
       "      <th>Composition</th>\n",
       "      <th>Product safety</th>\n",
       "      <th>Size</th>\n",
       "      <th>More sustainable materials</th>\n",
       "    </tr>\n",
       "  </thead>\n",
       "  <tbody>\n",
       "    <tr>\n",
       "      <th>0</th>\n",
       "      <td>0985197001</td>\n",
       "      <td>Slim Jeans</td>\n",
       "      <td>men_jeans_slim</td>\n",
       "      <td>$ 19.99</td>\n",
       "      <td>2021-07-16 16:54:48</td>\n",
       "      <td>0985197</td>\n",
       "      <td>001</td>\n",
       "      <td>Black</td>\n",
       "      <td>Slim fit</td>\n",
       "      <td>Pocket lining: Cotton 100%</td>\n",
       "      <td>NaN</td>\n",
       "      <td>The model is 189cm/6'2\" and wears a size 32/32</td>\n",
       "      <td>NaN</td>\n",
       "    </tr>\n",
       "    <tr>\n",
       "      <th>1</th>\n",
       "      <td>0985197001</td>\n",
       "      <td>Slim Jeans</td>\n",
       "      <td>men_jeans_slim</td>\n",
       "      <td>$ 19.99</td>\n",
       "      <td>2021-07-16 16:54:48</td>\n",
       "      <td>0985197</td>\n",
       "      <td>001</td>\n",
       "      <td>Black</td>\n",
       "      <td>Slim fit</td>\n",
       "      <td>Shell: Cotton 98%, Elastane 2%</td>\n",
       "      <td>NaN</td>\n",
       "      <td>The model is 189cm/6'2\" and wears a size 32/32</td>\n",
       "      <td>NaN</td>\n",
       "    </tr>\n",
       "    <tr>\n",
       "      <th>2</th>\n",
       "      <td>0985197001</td>\n",
       "      <td>Slim Jeans</td>\n",
       "      <td>men_jeans_slim</td>\n",
       "      <td>$ 19.99</td>\n",
       "      <td>2021-07-16 16:54:48</td>\n",
       "      <td>0985197</td>\n",
       "      <td>002</td>\n",
       "      <td>Midnight blue</td>\n",
       "      <td>Slim fit</td>\n",
       "      <td>Pocket lining: Cotton 100%</td>\n",
       "      <td>NaN</td>\n",
       "      <td>The model is 189cm/6'2\" and wears a size 32/32</td>\n",
       "      <td>NaN</td>\n",
       "    </tr>\n",
       "    <tr>\n",
       "      <th>3</th>\n",
       "      <td>0985197001</td>\n",
       "      <td>Slim Jeans</td>\n",
       "      <td>men_jeans_slim</td>\n",
       "      <td>$ 19.99</td>\n",
       "      <td>2021-07-16 16:54:48</td>\n",
       "      <td>0985197</td>\n",
       "      <td>002</td>\n",
       "      <td>Midnight blue</td>\n",
       "      <td>Slim fit</td>\n",
       "      <td>Shell: Cotton 98%, Elastane 2%</td>\n",
       "      <td>NaN</td>\n",
       "      <td>The model is 189cm/6'2\" and wears a size 32/32</td>\n",
       "      <td>NaN</td>\n",
       "    </tr>\n",
       "    <tr>\n",
       "      <th>4</th>\n",
       "      <td>0985197001</td>\n",
       "      <td>Slim Jeans</td>\n",
       "      <td>men_jeans_slim</td>\n",
       "      <td>$ 19.99</td>\n",
       "      <td>2021-07-16 16:54:48</td>\n",
       "      <td>0985197</td>\n",
       "      <td>003</td>\n",
       "      <td>Denim blue</td>\n",
       "      <td>Slim fit</td>\n",
       "      <td>Pocket lining: Cotton 100%</td>\n",
       "      <td>NaN</td>\n",
       "      <td>The model is 189cm/6'2\" and wears a size 32/32</td>\n",
       "      <td>NaN</td>\n",
       "    </tr>\n",
       "    <tr>\n",
       "      <th>...</th>\n",
       "      <td>...</td>\n",
       "      <td>...</td>\n",
       "      <td>...</td>\n",
       "      <td>...</td>\n",
       "      <td>...</td>\n",
       "      <td>...</td>\n",
       "      <td>...</td>\n",
       "      <td>...</td>\n",
       "      <td>...</td>\n",
       "      <td>...</td>\n",
       "      <td>...</td>\n",
       "      <td>...</td>\n",
       "      <td>...</td>\n",
       "    </tr>\n",
       "    <tr>\n",
       "      <th>4172</th>\n",
       "      <td>0868115004</td>\n",
       "      <td>Skinny Cropped Jeans</td>\n",
       "      <td>men_jeans_skinny</td>\n",
       "      <td>$ 29.99</td>\n",
       "      <td>2021-07-16 16:54:48</td>\n",
       "      <td>0868115</td>\n",
       "      <td>005</td>\n",
       "      <td>Light denim blue</td>\n",
       "      <td>Skinny fit</td>\n",
       "      <td>Pocket lining: Cotton 100%</td>\n",
       "      <td>NaN</td>\n",
       "      <td>NaN</td>\n",
       "      <td>NaN</td>\n",
       "    </tr>\n",
       "    <tr>\n",
       "      <th>4173</th>\n",
       "      <td>0868115004</td>\n",
       "      <td>Skinny Cropped Jeans</td>\n",
       "      <td>men_jeans_skinny</td>\n",
       "      <td>$ 29.99</td>\n",
       "      <td>2021-07-16 16:54:48</td>\n",
       "      <td>0868115</td>\n",
       "      <td>006</td>\n",
       "      <td>White</td>\n",
       "      <td>Skinny fit</td>\n",
       "      <td>Shell: Cotton 89%, Polyester 10%, Elastane 1%</td>\n",
       "      <td>NaN</td>\n",
       "      <td>NaN</td>\n",
       "      <td>NaN</td>\n",
       "    </tr>\n",
       "    <tr>\n",
       "      <th>4174</th>\n",
       "      <td>0868115004</td>\n",
       "      <td>Skinny Cropped Jeans</td>\n",
       "      <td>men_jeans_skinny</td>\n",
       "      <td>$ 29.99</td>\n",
       "      <td>2021-07-16 16:54:48</td>\n",
       "      <td>0868115</td>\n",
       "      <td>006</td>\n",
       "      <td>White</td>\n",
       "      <td>Skinny fit</td>\n",
       "      <td>Pocket lining: Cotton 100%</td>\n",
       "      <td>NaN</td>\n",
       "      <td>NaN</td>\n",
       "      <td>NaN</td>\n",
       "    </tr>\n",
       "    <tr>\n",
       "      <th>4175</th>\n",
       "      <td>0868115004</td>\n",
       "      <td>Skinny Cropped Jeans</td>\n",
       "      <td>men_jeans_skinny</td>\n",
       "      <td>$ 29.99</td>\n",
       "      <td>2021-07-16 16:54:48</td>\n",
       "      <td>0868115</td>\n",
       "      <td>007</td>\n",
       "      <td>Light blue</td>\n",
       "      <td>Skinny fit</td>\n",
       "      <td>Shell: Cotton 89%, Polyester 10%, Elastane 1%</td>\n",
       "      <td>NaN</td>\n",
       "      <td>NaN</td>\n",
       "      <td>NaN</td>\n",
       "    </tr>\n",
       "    <tr>\n",
       "      <th>4176</th>\n",
       "      <td>0868115004</td>\n",
       "      <td>Skinny Cropped Jeans</td>\n",
       "      <td>men_jeans_skinny</td>\n",
       "      <td>$ 29.99</td>\n",
       "      <td>2021-07-16 16:54:48</td>\n",
       "      <td>0868115</td>\n",
       "      <td>007</td>\n",
       "      <td>Light blue</td>\n",
       "      <td>Skinny fit</td>\n",
       "      <td>Pocket lining: Cotton 100%</td>\n",
       "      <td>NaN</td>\n",
       "      <td>NaN</td>\n",
       "      <td>NaN</td>\n",
       "    </tr>\n",
       "  </tbody>\n",
       "</table>\n",
       "<p>4177 rows × 13 columns</p>\n",
       "</div>"
      ],
      "text/plain": [
       "      product_id          product_name  product_category product_price  \\\n",
       "0     0985197001            Slim Jeans    men_jeans_slim       $ 19.99   \n",
       "1     0985197001            Slim Jeans    men_jeans_slim       $ 19.99   \n",
       "2     0985197001            Slim Jeans    men_jeans_slim       $ 19.99   \n",
       "3     0985197001            Slim Jeans    men_jeans_slim       $ 19.99   \n",
       "4     0985197001            Slim Jeans    men_jeans_slim       $ 19.99   \n",
       "...          ...                   ...               ...           ...   \n",
       "4172  0868115004  Skinny Cropped Jeans  men_jeans_skinny       $ 29.99   \n",
       "4173  0868115004  Skinny Cropped Jeans  men_jeans_skinny       $ 29.99   \n",
       "4174  0868115004  Skinny Cropped Jeans  men_jeans_skinny       $ 29.99   \n",
       "4175  0868115004  Skinny Cropped Jeans  men_jeans_skinny       $ 29.99   \n",
       "4176  0868115004  Skinny Cropped Jeans  men_jeans_skinny       $ 29.99   \n",
       "\n",
       "          scrapy-datetime style_id color_id        color_name         Fit  \\\n",
       "0     2021-07-16 16:54:48  0985197      001             Black    Slim fit   \n",
       "1     2021-07-16 16:54:48  0985197      001             Black    Slim fit   \n",
       "2     2021-07-16 16:54:48  0985197      002     Midnight blue    Slim fit   \n",
       "3     2021-07-16 16:54:48  0985197      002     Midnight blue    Slim fit   \n",
       "4     2021-07-16 16:54:48  0985197      003        Denim blue    Slim fit   \n",
       "...                   ...      ...      ...               ...         ...   \n",
       "4172  2021-07-16 16:54:48  0868115      005  Light denim blue  Skinny fit   \n",
       "4173  2021-07-16 16:54:48  0868115      006             White  Skinny fit   \n",
       "4174  2021-07-16 16:54:48  0868115      006             White  Skinny fit   \n",
       "4175  2021-07-16 16:54:48  0868115      007        Light blue  Skinny fit   \n",
       "4176  2021-07-16 16:54:48  0868115      007        Light blue  Skinny fit   \n",
       "\n",
       "                                        Composition Product safety  \\\n",
       "0                        Pocket lining: Cotton 100%            NaN   \n",
       "1                    Shell: Cotton 98%, Elastane 2%            NaN   \n",
       "2                        Pocket lining: Cotton 100%            NaN   \n",
       "3                    Shell: Cotton 98%, Elastane 2%            NaN   \n",
       "4                        Pocket lining: Cotton 100%            NaN   \n",
       "...                                             ...            ...   \n",
       "4172                     Pocket lining: Cotton 100%            NaN   \n",
       "4173  Shell: Cotton 89%, Polyester 10%, Elastane 1%            NaN   \n",
       "4174                     Pocket lining: Cotton 100%            NaN   \n",
       "4175  Shell: Cotton 89%, Polyester 10%, Elastane 1%            NaN   \n",
       "4176                     Pocket lining: Cotton 100%            NaN   \n",
       "\n",
       "                                                Size  \\\n",
       "0     The model is 189cm/6'2\" and wears a size 32/32   \n",
       "1     The model is 189cm/6'2\" and wears a size 32/32   \n",
       "2     The model is 189cm/6'2\" and wears a size 32/32   \n",
       "3     The model is 189cm/6'2\" and wears a size 32/32   \n",
       "4     The model is 189cm/6'2\" and wears a size 32/32   \n",
       "...                                              ...   \n",
       "4172                                             NaN   \n",
       "4173                                             NaN   \n",
       "4174                                             NaN   \n",
       "4175                                             NaN   \n",
       "4176                                             NaN   \n",
       "\n",
       "     More sustainable materials  \n",
       "0                           NaN  \n",
       "1                           NaN  \n",
       "2                           NaN  \n",
       "3                           NaN  \n",
       "4                           NaN  \n",
       "...                         ...  \n",
       "4172                        NaN  \n",
       "4173                        NaN  \n",
       "4174                        NaN  \n",
       "4175                        NaN  \n",
       "4176                        NaN  \n",
       "\n",
       "[4177 rows x 13 columns]"
      ]
     },
     "execution_count": 16,
     "metadata": {},
     "output_type": "execute_result"
    }
   ],
   "source": [
    "data_raw"
   ]
  },
  {
   "cell_type": "code",
   "execution_count": null,
   "metadata": {},
   "outputs": [],
   "source": []
  }
 ],
 "metadata": {
  "kernelspec": {
   "display_name": "Python 3",
   "language": "python",
   "name": "python3"
  },
  "language_info": {
   "codemirror_mode": {
    "name": "ipython",
    "version": 3
   },
   "file_extension": ".py",
   "mimetype": "text/x-python",
   "name": "python",
   "nbconvert_exporter": "python",
   "pygments_lexer": "ipython3",
   "version": "3.8.5"
  }
 },
 "nbformat": 4,
 "nbformat_minor": 4
}
