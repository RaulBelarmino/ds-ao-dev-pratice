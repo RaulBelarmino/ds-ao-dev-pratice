{
 "cells": [
  {
   "cell_type": "code",
   "execution_count": 142,
   "metadata": {
    "ExecuteTime": {
     "end_time": "2021-07-18T22:19:42.355368Z",
     "start_time": "2021-07-18T22:19:42.331367Z"
    }
   },
   "outputs": [],
   "source": [
    "import pandas as pd\n",
    "import numpy as np\n",
    "import requests\n",
    "import re\n",
    "\n",
    "from bs4 import BeautifulSoup\n",
    "from datetime import datetime"
   ]
  },
  {
   "cell_type": "code",
   "execution_count": 2,
   "metadata": {
    "ExecuteTime": {
     "end_time": "2021-07-18T21:24:28.461884Z",
     "start_time": "2021-07-18T21:24:26.444447Z"
    }
   },
   "outputs": [],
   "source": [
    "# Realizando a request do site, utilizando um agent simulando um browser para evitar problemas com a requisição\n",
    "url = 'https://www2.hm.com/en_us/men/products/jeans.html'\n",
    "headers = {'User-Agent': 'Mozilla/5.0 (Macintosh; Intel Mac OS X 10_11_5),AppleWebKit/537.36 (KHTML, like Gecko) Chrome/50.0.2661.102 Safari/537.36'}\n",
    "page = requests.get( url, headers=headers )"
   ]
  },
  {
   "cell_type": "code",
   "execution_count": 3,
   "metadata": {
    "ExecuteTime": {
     "end_time": "2021-07-18T21:24:28.875922Z",
     "start_time": "2021-07-18T21:24:28.461884Z"
    }
   },
   "outputs": [],
   "source": [
    "# Basicamente, você utiliza o request para requisitar os dados do url simulando um browser\n",
    "## E o instância o texto para o BeautifulSoup, para realizar a extração dos dados HTML\n",
    "### O parser é a forma que o BeautifulSoup vai ler os dados do HTML\n",
    "soup = BeautifulSoup(page.text, 'html.parser')"
   ]
  },
  {
   "cell_type": "code",
   "execution_count": 4,
   "metadata": {
    "ExecuteTime": {
     "end_time": "2021-07-18T21:24:28.907924Z",
     "start_time": "2021-07-18T21:24:28.875922Z"
    }
   },
   "outputs": [],
   "source": [
    "total_item = soup.find('h2', class_='load-more-heading')\n",
    "total_item = total_item.get('data-total')\n",
    "\n",
    "page_number = np.round(int(total_item)/36)"
   ]
  },
  {
   "cell_type": "code",
   "execution_count": 5,
   "metadata": {
    "ExecuteTime": {
     "end_time": "2021-07-18T21:24:31.517221Z",
     "start_time": "2021-07-18T21:24:28.907924Z"
    }
   },
   "outputs": [],
   "source": [
    "url01 = url + '?sort=stock&image-size=small&image=model&offset=0&page-size=' + str(int(page_number*36))\n",
    "headers = {'User-Agent': 'Mozilla/5.0 (Macintosh; Intel Mac OS X 10_11_5),AppleWebKit/537.36 (KHTML, like Gecko) Chrome/50.0.2661.102 Safari/537.36'}\n",
    "page = requests.get( url01, headers=headers )\n",
    "soup = BeautifulSoup(page.text, 'html.parser')"
   ]
  },
  {
   "cell_type": "code",
   "execution_count": 6,
   "metadata": {
    "ExecuteTime": {
     "end_time": "2021-07-18T21:24:31.565218Z",
     "start_time": "2021-07-18T21:24:31.517221Z"
    }
   },
   "outputs": [],
   "source": [
    "# Indexar a busca na lista de produtos\n",
    "products = soup.find('ul', class_='products-listing small')"
   ]
  },
  {
   "cell_type": "code",
   "execution_count": 7,
   "metadata": {
    "ExecuteTime": {
     "end_time": "2021-07-18T21:24:31.589220Z",
     "start_time": "2021-07-18T21:24:31.565218Z"
    }
   },
   "outputs": [],
   "source": [
    "product_list = products.find_all('article', class_='hm-product-item')"
   ]
  },
  {
   "cell_type": "code",
   "execution_count": 8,
   "metadata": {
    "ExecuteTime": {
     "end_time": "2021-07-18T21:24:31.605219Z",
     "start_time": "2021-07-18T21:24:31.589220Z"
    }
   },
   "outputs": [],
   "source": [
    "# Id\n",
    "product_id = [p.get('data-articlecode') for p in product_list]"
   ]
  },
  {
   "cell_type": "code",
   "execution_count": 9,
   "metadata": {
    "ExecuteTime": {
     "end_time": "2021-07-18T21:24:31.621219Z",
     "start_time": "2021-07-18T21:24:31.605219Z"
    }
   },
   "outputs": [],
   "source": [
    "# Product Category\n",
    "product_category = [p.get('data-category') for p in product_list]"
   ]
  },
  {
   "cell_type": "code",
   "execution_count": 10,
   "metadata": {
    "ExecuteTime": {
     "end_time": "2021-07-18T21:24:31.661218Z",
     "start_time": "2021-07-18T21:24:31.621219Z"
    }
   },
   "outputs": [],
   "source": [
    "# Product Name\n",
    "product_list = products.find_all('a', class_='link')\n",
    "product_name = [p.get_text() for p in product_list]"
   ]
  },
  {
   "cell_type": "code",
   "execution_count": 11,
   "metadata": {
    "ExecuteTime": {
     "end_time": "2021-07-18T21:24:31.693218Z",
     "start_time": "2021-07-18T21:24:31.661218Z"
    }
   },
   "outputs": [],
   "source": [
    "# Product Price\n",
    "product_list = products.find_all('span',class_='price regular')\n",
    "product_price = [p.get_text() for p in product_list]"
   ]
  },
  {
   "cell_type": "code",
   "execution_count": 12,
   "metadata": {
    "ExecuteTime": {
     "end_time": "2021-07-18T21:24:31.765218Z",
     "start_time": "2021-07-18T21:24:31.693218Z"
    },
    "scrolled": false
   },
   "outputs": [],
   "source": [
    "# Create a DataFrame\n",
    "data = pd.DataFrame([product_id, product_name, product_category,product_price]).T\n",
    "data.columns = ['product_id', 'product_name', 'product_category','product_price']\n",
    "\n",
    "# Scrapy date-time\n",
    "data['scrapy-datetime'] = datetime.now().strftime('%Y-%m-%d %H:%M:%S')"
   ]
  },
  {
   "cell_type": "markdown",
   "metadata": {
    "heading_collapsed": true
   },
   "source": [
    "## One product scrapy"
   ]
  },
  {
   "cell_type": "code",
   "execution_count": null,
   "metadata": {
    "ExecuteTime": {
     "end_time": "2021-07-16T19:50:03.740917Z",
     "start_time": "2021-07-16T19:50:02.525901Z"
    },
    "hidden": true
   },
   "outputs": [],
   "source": [
    "# Get color and composition one product - API request\n",
    "\n",
    "url = 'https://www2.hm.com/en_us/productpage.0985197001.html'\n",
    "headers = {'User-Agent': 'Mozilla/5.0 (Macintosh; Intel Mac OS X 10_11_5),AppleWebKit/537.36 (KHTML, like Gecko) Chrome/50.0.2661.102 Safari/537.36'}\n",
    "page = requests.get( url, headers=headers )\n",
    "\n",
    "# BeautifulSoup Object\n",
    "soup = BeautifulSoup(page.text, 'html.parser')\n",
    "\n",
    "#=======================color name====================#\n",
    "# A primeira cor, quando esta selecionada a classe altera para active, neste sentido, criei 2 modos e coleta\n",
    "product_list = soup.find_all('a', class_='filter-option miniature active')\n",
    "color_name = [p.get('data-color') for p in product_list]\n",
    "\n",
    "product_list = soup.find_all('a', class_='filter-option miniature')\n",
    "color_name2 = [p.get('data-color') for p in product_list]\n",
    "\n",
    "color_name = color_name + color_name2\n",
    "\n",
    "# color id\n",
    "product_list = soup.find_all('a', class_='filter-option miniature active')\n",
    "color_id1 = [p.get('data-articlecode') for p in product_list]\n",
    "\n",
    "product_list = soup.find_all('a', class_='filter-option miniature')\n",
    "color_id2 = [p.get('data-articlecode') for p in product_list]\n",
    "\n",
    "color_id = color_id1 + color_id2\n",
    "\n",
    "df_color = pd.DataFrame([color_id, color_name]).T\n",
    "df_color.columns = ['product_id','color_name']\n",
    "\n",
    "# generate style id + color id\n",
    "df_color['style_id'] = df_color['product_id'].apply(lambda x: x[:-3])\n",
    "df_color['color_id'] = df_color['product_id'].apply(lambda x: x[-3:])\n",
    "\n",
    "#======================= composition ====================#\n",
    "product_composistion_list = soup.find_all('div', class_='pdp-description-list-item')\n",
    "product_composition = [list(filter(None, p.get_text().split('\\n'))) for p in product_composistion_list]\n",
    "\n",
    "# rename dataframe\n",
    "df_composition = pd.DataFrame(product_composition).T\n",
    "df_composition.columns = df_composition.iloc[0]\n",
    "\n",
    "# drop first row\n",
    "df_composition = df_composition.iloc[1:].fillna(method='ffill')\n",
    "df_composition\n",
    "\n",
    "# generate style id\n",
    "df_composition['style_id'] = df_composition['Art. No.'].apply(lambda x: x[:-3])\n",
    "df_composition\n",
    "\n",
    "#======================= merge ====================#\n",
    "data_sku = pd.merge(df_color, df_composition[['style_id','Fit','Composition']], how='left', on='style_id')"
   ]
  },
  {
   "cell_type": "markdown",
   "metadata": {
    "ExecuteTime": {
     "end_time": "2021-07-15T17:05:07.348553Z",
     "start_time": "2021-07-15T17:05:07.308551Z"
    }
   },
   "source": [
    "## Multi products scrapy"
   ]
  },
  {
   "cell_type": "code",
   "execution_count": 24,
   "metadata": {
    "ExecuteTime": {
     "end_time": "2021-07-18T21:29:29.597836Z",
     "start_time": "2021-07-18T21:28:48.532218Z"
    }
   },
   "outputs": [],
   "source": [
    "headers = {'User-Agent': 'Mozilla/5.0 (Macintosh; Intel Mac OS X 10_11_5),AppleWebKit/537.36 (KHTML, like Gecko) Chrome/50.0.2661.102 Safari/537.36'}\n",
    "\n",
    "#empty dataframe\n",
    "data_details = pd.DataFrame()\n",
    "\n",
    "#unique columns for all products composition\n",
    "aux = []\n",
    "\n",
    "cols = ['Art. No.', 'Composition', 'Fit', 'Product safety', 'Size']\n",
    "\n",
    "df_pattern = pd.DataFrame(columns=cols)\n",
    "\n",
    "for i in range(len(data)):\n",
    "    # Get color and composition one product - API request\n",
    "    url = 'https://www2.hm.com/en_us/productpage.'+ data.loc[i, 'product_id'] +'.html'\n",
    "    page = requests.get( url, headers=headers )\n",
    "\n",
    "    # BeautifulSoup Object\n",
    "    soup = BeautifulSoup(page.text, 'html.parser')\n",
    "\n",
    "    #=======================color name====================#\n",
    "    # A primeira cor, quando esta selecionada a classe altera para active, neste sentido, criei 2 modos e coleta\n",
    "    product_list = soup.find_all('a', class_=['filter-option miniature active','filter-option miniature'])\n",
    "    color_name = [p.get('data-color') for p in product_list]\n",
    "\n",
    "    # color id\n",
    "    product_list = soup.find_all('a', class_=['filter-option miniature active','filter-option miniature'])\n",
    "    color_id = [p.get('data-articlecode') for p in product_list]\n",
    "\n",
    "    df_color = pd.DataFrame([color_id, color_name]).T\n",
    "    df_color.columns = ['product_id','color_name']\n",
    "\n",
    "    # generate style id + color id\n",
    "    df_color['style_id'] = df_color['product_id'].apply(lambda x: x[:-3])\n",
    "    df_color['color_id'] = df_color['product_id'].apply(lambda x: x[-3:])\n",
    "\n",
    "    #======================= composition ====================#\n",
    "    product_composistion_list = soup.find_all('div', class_='pdp-description-list-item')\n",
    "    product_composition = [list(filter(None, p.get_text().split('\\n'))) for p in product_composistion_list]\n",
    "\n",
    "    # rename dataframe\n",
    "    df_composition = pd.DataFrame(product_composition).T\n",
    "    df_composition.columns = df_composition.iloc[0]\n",
    "\n",
    "    # drop first row\n",
    "    df_composition = df_composition.iloc[1:].fillna(method='ffill')\n",
    "\n",
    "    # garantee the same number of columns\n",
    "    df_compostion = pd.concat([df_pattern, df_composition], axis=0)\n",
    "    \n",
    "    # generate style id\n",
    "    df_composition['style_id'] = df_composition['Art. No.'].apply(lambda x: x[:-3])\n",
    "    \n",
    "    aux = aux + df_composition.columns.tolist()\n",
    "    \n",
    "    #======================= merge ====================#\n",
    "    data_sku = pd.merge(df_color, df_composition, how='left', on='style_id')\n",
    "    \n",
    "    # all products details\n",
    "    data_details = pd.concat([data_details, data_sku], axis=0)\n",
    "\n",
    "# join data showroom + data details\n",
    "data['style_id'] = data['product_id'].apply(lambda x: x[:-3])\n",
    "data_raw = pd.merge(data, data_details[['style_id','color_id','color_name','Fit','Composition','Product safety','Size']], how='left', on='style_id')"
   ]
  },
  {
   "cell_type": "code",
   "execution_count": 26,
   "metadata": {
    "ExecuteTime": {
     "end_time": "2021-07-18T21:30:41.448410Z",
     "start_time": "2021-07-18T21:30:41.376397Z"
    }
   },
   "outputs": [],
   "source": [
    "data_raw.to_csv('data-raw.csv', index=False)"
   ]
  },
  {
   "cell_type": "code",
   "execution_count": 159,
   "metadata": {
    "ExecuteTime": {
     "end_time": "2021-07-18T22:26:11.713616Z",
     "start_time": "2021-07-18T22:26:11.607076Z"
    }
   },
   "outputs": [],
   "source": [
    "# data clean\n",
    "df = data_raw.copy()\n",
    "df.columns = [item.lower() for item in df.columns]\n",
    "\n",
    "#product_id\n",
    "#product_name\n",
    "df['product_name'] = df['product_name'].apply(lambda x: x.replace(' ', '_').lower())\n",
    "\n",
    "#product_category\n",
    "#product_price\n",
    "df['product_price'] = df['product_price'].apply(lambda x: x.replace('$ ','')).astype(float)\n",
    "\n",
    "#scrapy-datetime\n",
    "#style_id\n",
    "#color_id\n",
    "#color_name\n",
    "df['color_name'] = df['color_name'].apply(lambda x: x.replace(' ', '_').lower())\n",
    "\n",
    "#Fit\n",
    "df['fit'] = df['fit'].apply(lambda x: x.replace(' ', '_').lower())\n",
    "\n",
    "#Composition\n",
    "#Product safety\n",
    "#Size\n",
    "df['size_number'] = df['size'].apply(lambda x: re.search('\\d{3}cm', x).group(0) if pd.notnull(x) else x)\n",
    "df['size_number'] = df['size_number'].apply(lambda x: re.search('\\d{3}', x).group(0) if pd.notnull(x) else x)\n",
    "\n",
    "df['size_model'] = df['size'].str.extract('(\\d+/\\\\d+)')\n",
    "\n",
    "df = df.drop(columns=['product safety','size'], axis=1)"
   ]
  },
  {
   "cell_type": "code",
   "execution_count": 160,
   "metadata": {
    "ExecuteTime": {
     "end_time": "2021-07-18T22:26:12.169617Z",
     "start_time": "2021-07-18T22:26:12.129619Z"
    },
    "scrolled": true
   },
   "outputs": [
    {
     "data": {
      "text/html": [
       "<div>\n",
       "<style scoped>\n",
       "    .dataframe tbody tr th:only-of-type {\n",
       "        vertical-align: middle;\n",
       "    }\n",
       "\n",
       "    .dataframe tbody tr th {\n",
       "        vertical-align: top;\n",
       "    }\n",
       "\n",
       "    .dataframe thead th {\n",
       "        text-align: right;\n",
       "    }\n",
       "</style>\n",
       "<table border=\"1\" class=\"dataframe\">\n",
       "  <thead>\n",
       "    <tr style=\"text-align: right;\">\n",
       "      <th></th>\n",
       "      <th>product_id</th>\n",
       "      <th>product_name</th>\n",
       "      <th>product_category</th>\n",
       "      <th>product_price</th>\n",
       "      <th>scrapy-datetime</th>\n",
       "      <th>style_id</th>\n",
       "      <th>color_id</th>\n",
       "      <th>color_name</th>\n",
       "      <th>fit</th>\n",
       "      <th>composition</th>\n",
       "      <th>size_number</th>\n",
       "      <th>size_model</th>\n",
       "    </tr>\n",
       "  </thead>\n",
       "  <tbody>\n",
       "    <tr>\n",
       "      <th>0</th>\n",
       "      <td>0985197001</td>\n",
       "      <td>slim_jeans</td>\n",
       "      <td>men_jeans_slim</td>\n",
       "      <td>19.99</td>\n",
       "      <td>2021-07-18 18:24:31</td>\n",
       "      <td>0985197</td>\n",
       "      <td>001</td>\n",
       "      <td>black</td>\n",
       "      <td>slim_fit</td>\n",
       "      <td>Pocket lining: Cotton 100%</td>\n",
       "      <td>189</td>\n",
       "      <td>32/32</td>\n",
       "    </tr>\n",
       "    <tr>\n",
       "      <th>1</th>\n",
       "      <td>0985197001</td>\n",
       "      <td>slim_jeans</td>\n",
       "      <td>men_jeans_slim</td>\n",
       "      <td>19.99</td>\n",
       "      <td>2021-07-18 18:24:31</td>\n",
       "      <td>0985197</td>\n",
       "      <td>001</td>\n",
       "      <td>black</td>\n",
       "      <td>slim_fit</td>\n",
       "      <td>Shell: Cotton 98%, Elastane 2%</td>\n",
       "      <td>189</td>\n",
       "      <td>32/32</td>\n",
       "    </tr>\n",
       "    <tr>\n",
       "      <th>2</th>\n",
       "      <td>0985197001</td>\n",
       "      <td>slim_jeans</td>\n",
       "      <td>men_jeans_slim</td>\n",
       "      <td>19.99</td>\n",
       "      <td>2021-07-18 18:24:31</td>\n",
       "      <td>0985197</td>\n",
       "      <td>002</td>\n",
       "      <td>midnight_blue</td>\n",
       "      <td>slim_fit</td>\n",
       "      <td>Pocket lining: Cotton 100%</td>\n",
       "      <td>189</td>\n",
       "      <td>32/32</td>\n",
       "    </tr>\n",
       "    <tr>\n",
       "      <th>3</th>\n",
       "      <td>0985197001</td>\n",
       "      <td>slim_jeans</td>\n",
       "      <td>men_jeans_slim</td>\n",
       "      <td>19.99</td>\n",
       "      <td>2021-07-18 18:24:31</td>\n",
       "      <td>0985197</td>\n",
       "      <td>002</td>\n",
       "      <td>midnight_blue</td>\n",
       "      <td>slim_fit</td>\n",
       "      <td>Shell: Cotton 98%, Elastane 2%</td>\n",
       "      <td>189</td>\n",
       "      <td>32/32</td>\n",
       "    </tr>\n",
       "    <tr>\n",
       "      <th>4</th>\n",
       "      <td>0985197001</td>\n",
       "      <td>slim_jeans</td>\n",
       "      <td>men_jeans_slim</td>\n",
       "      <td>19.99</td>\n",
       "      <td>2021-07-18 18:24:31</td>\n",
       "      <td>0985197</td>\n",
       "      <td>003</td>\n",
       "      <td>denim_blue</td>\n",
       "      <td>slim_fit</td>\n",
       "      <td>Pocket lining: Cotton 100%</td>\n",
       "      <td>189</td>\n",
       "      <td>32/32</td>\n",
       "    </tr>\n",
       "  </tbody>\n",
       "</table>\n",
       "</div>"
      ],
      "text/plain": [
       "   product_id product_name product_category  product_price  \\\n",
       "0  0985197001   slim_jeans   men_jeans_slim          19.99   \n",
       "1  0985197001   slim_jeans   men_jeans_slim          19.99   \n",
       "2  0985197001   slim_jeans   men_jeans_slim          19.99   \n",
       "3  0985197001   slim_jeans   men_jeans_slim          19.99   \n",
       "4  0985197001   slim_jeans   men_jeans_slim          19.99   \n",
       "\n",
       "       scrapy-datetime style_id color_id     color_name       fit  \\\n",
       "0  2021-07-18 18:24:31  0985197      001          black  slim_fit   \n",
       "1  2021-07-18 18:24:31  0985197      001          black  slim_fit   \n",
       "2  2021-07-18 18:24:31  0985197      002  midnight_blue  slim_fit   \n",
       "3  2021-07-18 18:24:31  0985197      002  midnight_blue  slim_fit   \n",
       "4  2021-07-18 18:24:31  0985197      003     denim_blue  slim_fit   \n",
       "\n",
       "                      composition size_number size_model  \n",
       "0      Pocket lining: Cotton 100%         189      32/32  \n",
       "1  Shell: Cotton 98%, Elastane 2%         189      32/32  \n",
       "2      Pocket lining: Cotton 100%         189      32/32  \n",
       "3  Shell: Cotton 98%, Elastane 2%         189      32/32  \n",
       "4      Pocket lining: Cotton 100%         189      32/32  "
      ]
     },
     "execution_count": 160,
     "metadata": {},
     "output_type": "execute_result"
    }
   ],
   "source": [
    "df.head()"
   ]
  },
  {
   "cell_type": "code",
   "execution_count": 131,
   "metadata": {
    "ExecuteTime": {
     "end_time": "2021-07-18T22:07:20.505611Z",
     "start_time": "2021-07-18T22:07:20.449597Z"
    },
    "collapsed": true
   },
   "outputs": [
    {
     "data": {
      "text/html": [
       "<div>\n",
       "<style scoped>\n",
       "    .dataframe tbody tr th:only-of-type {\n",
       "        vertical-align: middle;\n",
       "    }\n",
       "\n",
       "    .dataframe tbody tr th {\n",
       "        vertical-align: top;\n",
       "    }\n",
       "\n",
       "    .dataframe thead th {\n",
       "        text-align: right;\n",
       "    }\n",
       "</style>\n",
       "<table border=\"1\" class=\"dataframe\">\n",
       "  <thead>\n",
       "    <tr style=\"text-align: right;\">\n",
       "      <th></th>\n",
       "      <th>product_id</th>\n",
       "      <th>product_name</th>\n",
       "      <th>product_category</th>\n",
       "      <th>product_price</th>\n",
       "      <th>scrapy-datetime</th>\n",
       "      <th>style_id</th>\n",
       "      <th>color_id</th>\n",
       "      <th>color_name</th>\n",
       "      <th>fit</th>\n",
       "      <th>composition</th>\n",
       "      <th>product safety</th>\n",
       "      <th>size</th>\n",
       "    </tr>\n",
       "  </thead>\n",
       "  <tbody>\n",
       "    <tr>\n",
       "      <th>0</th>\n",
       "      <td>0985197001</td>\n",
       "      <td>slim_jeans</td>\n",
       "      <td>men_jeans_slim</td>\n",
       "      <td>19.99</td>\n",
       "      <td>2021-07-18 18:24:31</td>\n",
       "      <td>0985197</td>\n",
       "      <td>001</td>\n",
       "      <td>black</td>\n",
       "      <td>slim_fit</td>\n",
       "      <td>Pocket lining: Cotton 100%</td>\n",
       "      <td>NaN</td>\n",
       "      <td>The model is 189cm/6'2\" and wears a size 32/32</td>\n",
       "    </tr>\n",
       "    <tr>\n",
       "      <th>1</th>\n",
       "      <td>0985197001</td>\n",
       "      <td>slim_jeans</td>\n",
       "      <td>men_jeans_slim</td>\n",
       "      <td>19.99</td>\n",
       "      <td>2021-07-18 18:24:31</td>\n",
       "      <td>0985197</td>\n",
       "      <td>001</td>\n",
       "      <td>black</td>\n",
       "      <td>slim_fit</td>\n",
       "      <td>Shell: Cotton 98%, Elastane 2%</td>\n",
       "      <td>NaN</td>\n",
       "      <td>The model is 189cm/6'2\" and wears a size 32/32</td>\n",
       "    </tr>\n",
       "    <tr>\n",
       "      <th>2</th>\n",
       "      <td>0985197001</td>\n",
       "      <td>slim_jeans</td>\n",
       "      <td>men_jeans_slim</td>\n",
       "      <td>19.99</td>\n",
       "      <td>2021-07-18 18:24:31</td>\n",
       "      <td>0985197</td>\n",
       "      <td>002</td>\n",
       "      <td>midnight_blue</td>\n",
       "      <td>slim_fit</td>\n",
       "      <td>Pocket lining: Cotton 100%</td>\n",
       "      <td>NaN</td>\n",
       "      <td>The model is 189cm/6'2\" and wears a size 32/32</td>\n",
       "    </tr>\n",
       "    <tr>\n",
       "      <th>3</th>\n",
       "      <td>0985197001</td>\n",
       "      <td>slim_jeans</td>\n",
       "      <td>men_jeans_slim</td>\n",
       "      <td>19.99</td>\n",
       "      <td>2021-07-18 18:24:31</td>\n",
       "      <td>0985197</td>\n",
       "      <td>002</td>\n",
       "      <td>midnight_blue</td>\n",
       "      <td>slim_fit</td>\n",
       "      <td>Shell: Cotton 98%, Elastane 2%</td>\n",
       "      <td>NaN</td>\n",
       "      <td>The model is 189cm/6'2\" and wears a size 32/32</td>\n",
       "    </tr>\n",
       "    <tr>\n",
       "      <th>4</th>\n",
       "      <td>0985197001</td>\n",
       "      <td>slim_jeans</td>\n",
       "      <td>men_jeans_slim</td>\n",
       "      <td>19.99</td>\n",
       "      <td>2021-07-18 18:24:31</td>\n",
       "      <td>0985197</td>\n",
       "      <td>003</td>\n",
       "      <td>denim_blue</td>\n",
       "      <td>slim_fit</td>\n",
       "      <td>Pocket lining: Cotton 100%</td>\n",
       "      <td>NaN</td>\n",
       "      <td>The model is 189cm/6'2\" and wears a size 32/32</td>\n",
       "    </tr>\n",
       "  </tbody>\n",
       "</table>\n",
       "</div>"
      ],
      "text/plain": [
       "   product_id product_name product_category  product_price  \\\n",
       "0  0985197001   slim_jeans   men_jeans_slim          19.99   \n",
       "1  0985197001   slim_jeans   men_jeans_slim          19.99   \n",
       "2  0985197001   slim_jeans   men_jeans_slim          19.99   \n",
       "3  0985197001   slim_jeans   men_jeans_slim          19.99   \n",
       "4  0985197001   slim_jeans   men_jeans_slim          19.99   \n",
       "\n",
       "       scrapy-datetime style_id color_id     color_name       fit  \\\n",
       "0  2021-07-18 18:24:31  0985197      001          black  slim_fit   \n",
       "1  2021-07-18 18:24:31  0985197      001          black  slim_fit   \n",
       "2  2021-07-18 18:24:31  0985197      002  midnight_blue  slim_fit   \n",
       "3  2021-07-18 18:24:31  0985197      002  midnight_blue  slim_fit   \n",
       "4  2021-07-18 18:24:31  0985197      003     denim_blue  slim_fit   \n",
       "\n",
       "                      composition product safety  \\\n",
       "0      Pocket lining: Cotton 100%            NaN   \n",
       "1  Shell: Cotton 98%, Elastane 2%            NaN   \n",
       "2      Pocket lining: Cotton 100%            NaN   \n",
       "3  Shell: Cotton 98%, Elastane 2%            NaN   \n",
       "4      Pocket lining: Cotton 100%            NaN   \n",
       "\n",
       "                                             size  \n",
       "0  The model is 189cm/6'2\" and wears a size 32/32  \n",
       "1  The model is 189cm/6'2\" and wears a size 32/32  \n",
       "2  The model is 189cm/6'2\" and wears a size 32/32  \n",
       "3  The model is 189cm/6'2\" and wears a size 32/32  \n",
       "4  The model is 189cm/6'2\" and wears a size 32/32  "
      ]
     },
     "execution_count": 131,
     "metadata": {},
     "output_type": "execute_result"
    }
   ],
   "source": [
    "df.head()"
   ]
  },
  {
   "cell_type": "code",
   "execution_count": 101,
   "metadata": {
    "ExecuteTime": {
     "end_time": "2021-07-18T21:57:27.872466Z",
     "start_time": "2021-07-18T21:57:27.800432Z"
    }
   },
   "outputs": [
    {
     "name": "stdout",
     "output_type": "stream",
     "text": [
      "<class 'pandas.core.frame.DataFrame'>\n",
      "Int64Index: 4028 entries, 0 to 4027\n",
      "Data columns (total 12 columns):\n",
      " #   Column            Non-Null Count  Dtype  \n",
      "---  ------            --------------  -----  \n",
      " 0   product_id        4028 non-null   object \n",
      " 1   product_name      4028 non-null   object \n",
      " 2   product_category  4028 non-null   object \n",
      " 3   product_price     4028 non-null   float64\n",
      " 4   scrapy-datetime   4028 non-null   object \n",
      " 5   style_id          4028 non-null   object \n",
      " 6   color_id          4028 non-null   object \n",
      " 7   color_name        4028 non-null   object \n",
      " 8   Fit               4028 non-null   object \n",
      " 9   Composition       4028 non-null   object \n",
      " 10  Product safety    904 non-null    object \n",
      " 11  Size              1473 non-null   object \n",
      "dtypes: float64(1), object(11)\n",
      "memory usage: 409.1+ KB\n"
     ]
    }
   ],
   "source": [
    "df.info()"
   ]
  },
  {
   "cell_type": "code",
   "execution_count": null,
   "metadata": {},
   "outputs": [],
   "source": []
  },
  {
   "cell_type": "code",
   "execution_count": 85,
   "metadata": {
    "ExecuteTime": {
     "end_time": "2021-07-18T21:53:16.529251Z",
     "start_time": "2021-07-18T21:53:16.481251Z"
    }
   },
   "outputs": [
    {
     "name": "stdout",
     "output_type": "stream",
     "text": [
      "No text, column:product_id 0\n",
      "No text, column:product_name 0\n",
      "No text, column:product_category 1294\n",
      "No text, column:product_price 0\n",
      "No text, column:scrapy-datetime 0\n",
      "No text, column:style_id 0\n",
      "No text, column:color_id 0\n",
      "No text, column:color_name 0\n",
      "No text, column:Fit 0\n",
      "No text, column:Composition 0\n",
      "No text, column:Product safety 0\n",
      "No text, column:Size 0\n"
     ]
    }
   ],
   "source": [
    "for a in range(len(df.columns)):\n",
    "    print('No text, column:' + df.columns[a], df[df[df.columns[a]] == ''].shape[0]) "
   ]
  },
  {
   "cell_type": "code",
   "execution_count": 87,
   "metadata": {
    "ExecuteTime": {
     "end_time": "2021-07-18T21:54:22.851967Z",
     "start_time": "2021-07-18T21:54:22.819965Z"
    }
   },
   "outputs": [
    {
     "data": {
      "text/plain": [
       "product_id             0\n",
       "product_name           0\n",
       "product_category       0\n",
       "product_price          0\n",
       "scrapy-datetime        0\n",
       "style_id               0\n",
       "color_id               0\n",
       "color_name             0\n",
       "Fit                    0\n",
       "Composition            0\n",
       "Product safety      3124\n",
       "Size                2555\n",
       "dtype: int64"
      ]
     },
     "execution_count": 87,
     "metadata": {},
     "output_type": "execute_result"
    }
   ],
   "source": [
    "df.isna().sum()"
   ]
  },
  {
   "cell_type": "code",
   "execution_count": null,
   "metadata": {},
   "outputs": [],
   "source": []
  },
  {
   "cell_type": "code",
   "execution_count": null,
   "metadata": {},
   "outputs": [],
   "source": []
  }
 ],
 "metadata": {
  "kernelspec": {
   "display_name": "Python 3",
   "language": "python",
   "name": "python3"
  },
  "language_info": {
   "codemirror_mode": {
    "name": "ipython",
    "version": 3
   },
   "file_extension": ".py",
   "mimetype": "text/x-python",
   "name": "python",
   "nbconvert_exporter": "python",
   "pygments_lexer": "ipython3",
   "version": "3.8.5"
  }
 },
 "nbformat": 4,
 "nbformat_minor": 4
}
